{
  "cells": [
    {
      "cell_type": "markdown",
      "source": [
        "#Understanding Players’ Environmental Perception in a Game Environment"
      ],
      "metadata": {
        "id": "T1I6bNVf42h4"
      },
      "id": "T1I6bNVf42h4"
    },
    {
      "cell_type": "code",
      "execution_count": null,
      "metadata": {
        "id": "0ba623c9-30bf-4841-8955-e6d4d082b559"
      },
      "outputs": [],
      "source": [
        "import numpy as np\n",
        "import pandas as pd"
      ],
      "id": "0ba623c9-30bf-4841-8955-e6d4d082b559"
    },
    {
      "cell_type": "code",
      "execution_count": null,
      "metadata": {
        "id": "d1da0b6c-d70b-4fd0-b723-6c123420015a"
      },
      "outputs": [],
      "source": [
        "data = pd.read_csv(\"data_640_validated.csv\", encoding='ISO-8859-1')"
      ],
      "id": "d1da0b6c-d70b-4fd0-b723-6c123420015a"
    },
    {
      "cell_type": "code",
      "execution_count": null,
      "metadata": {
        "colab": {
          "base_uri": "https://localhost:8080/"
        },
        "id": "geBTiD1qAhRh",
        "outputId": "88016abd-0049-464a-a784-28405256e2bf"
      },
      "outputs": [
        {
          "output_type": "execute_result",
          "data": {
            "text/plain": [
              "Index(['Column1', 'O1', 'A1_1', 'A1_2', 'A2', 'A3', 'A4', 'A5', 'A6', 'A7',\n",
              "       'A8', 'B1', 'B2', 'B3', 'C1', 'C2', 'C3', 'C4', 'C5', 'C6', 'C7', 'C8',\n",
              "       'C9', 'C10', 'C11', 'C12', 'C13', 'C14', 'C15', 'D1', 'D2', 'D3', 'D4',\n",
              "       'D5', 'D6', 'D7', 'E1', 'E2', 'E3', 'E4', 'E5', 'E6', 'E7', 'E8', 'E9',\n",
              "       'E10', 'E11', 'E12', 'E13', 'E14', 'E15', 'E16', 'E17', 'E18', 'E19',\n",
              "       'E20', 'E21', 'E22', 'E23', 'E24', 'E25', 'E26', 'E27', 'E28', 'F1',\n",
              "       'F2', 'F3', 'F4', 'F5', 'F6', 'F7', 'F8', 'F9', 'F10', 'F11', 'F12',\n",
              "       'F13', 'F14', 'F15', 'F16', 'F17', 'F18', 'F19', 'F20', 'F21', 'F22',\n",
              "       'F23', 'F24', 'F25', 'F26', 'F27', 'F28', 'F29', 'F30', 'F31', 'F32',\n",
              "       'SUM_C'],\n",
              "      dtype='object')"
            ]
          },
          "metadata": {},
          "execution_count": 3
        }
      ],
      "source": [
        "data.columns"
      ],
      "id": "geBTiD1qAhRh"
    },
    {
      "cell_type": "markdown",
      "metadata": {
        "id": "b3cxhjcmECaZ"
      },
      "source": [
        "None of the values in the dataset have any unique identifiers, so its difficult to judge any entry as an dulicate or not.So we have tried using all colulmns and seeing if there is any value that is a duplicate"
      ],
      "id": "b3cxhjcmECaZ"
    },
    {
      "cell_type": "code",
      "execution_count": null,
      "metadata": {
        "colab": {
          "base_uri": "https://localhost:8080/",
          "height": 79
        },
        "id": "XcoKXnrvAdtz",
        "outputId": "5ad006be-d793-4c90-abc8-17564c1b9c3e"
      },
      "outputs": [
        {
          "output_type": "execute_result",
          "data": {
            "text/plain": [
              "Empty DataFrame\n",
              "Columns: [Column1, O1, A1_1, A1_2, A2, A3, A4, A5, A6, A7, A8, B1, B2, B3, C1, C2, C3, C4, C5, C6, C7, C8, C9, C10, C11, C12, C13, C14, C15, D1, D2, D3, D4, D5, D6, D7, E1, E2, E3, E4, E5, E6, E7, E8, E9, E10, E11, E12, E13, E14, E15, E16, E17, E18, E19, E20, E21, E22, E23, E24, E25, E26, E27, E28, F1, F2, F3, F4, F5, F6, F7, F8, F9, F10, F11, F12, F13, F14, F15, F16, F17, F18, F19, F20, F21, F22, F23, F24, F25, F26, F27, F28, F29, F30, F31, F32, SUM_C]\n",
              "Index: []\n",
              "\n",
              "[0 rows x 97 columns]"
            ],
            "text/html": [
              "\n",
              "  <div id=\"df-9b88b2ae-ccad-4ba9-8a19-149f8e37fba4\" class=\"colab-df-container\">\n",
              "    <div>\n",
              "<style scoped>\n",
              "    .dataframe tbody tr th:only-of-type {\n",
              "        vertical-align: middle;\n",
              "    }\n",
              "\n",
              "    .dataframe tbody tr th {\n",
              "        vertical-align: top;\n",
              "    }\n",
              "\n",
              "    .dataframe thead th {\n",
              "        text-align: right;\n",
              "    }\n",
              "</style>\n",
              "<table border=\"1\" class=\"dataframe\">\n",
              "  <thead>\n",
              "    <tr style=\"text-align: right;\">\n",
              "      <th></th>\n",
              "      <th>Column1</th>\n",
              "      <th>O1</th>\n",
              "      <th>A1_1</th>\n",
              "      <th>A1_2</th>\n",
              "      <th>A2</th>\n",
              "      <th>A3</th>\n",
              "      <th>A4</th>\n",
              "      <th>A5</th>\n",
              "      <th>A6</th>\n",
              "      <th>A7</th>\n",
              "      <th>...</th>\n",
              "      <th>F24</th>\n",
              "      <th>F25</th>\n",
              "      <th>F26</th>\n",
              "      <th>F27</th>\n",
              "      <th>F28</th>\n",
              "      <th>F29</th>\n",
              "      <th>F30</th>\n",
              "      <th>F31</th>\n",
              "      <th>F32</th>\n",
              "      <th>SUM_C</th>\n",
              "    </tr>\n",
              "  </thead>\n",
              "  <tbody>\n",
              "  </tbody>\n",
              "</table>\n",
              "<p>0 rows × 97 columns</p>\n",
              "</div>\n",
              "    <div class=\"colab-df-buttons\">\n",
              "\n",
              "  <div class=\"colab-df-container\">\n",
              "    <button class=\"colab-df-convert\" onclick=\"convertToInteractive('df-9b88b2ae-ccad-4ba9-8a19-149f8e37fba4')\"\n",
              "            title=\"Convert this dataframe to an interactive table.\"\n",
              "            style=\"display:none;\">\n",
              "\n",
              "  <svg xmlns=\"http://www.w3.org/2000/svg\" height=\"24px\" viewBox=\"0 -960 960 960\">\n",
              "    <path d=\"M120-120v-720h720v720H120Zm60-500h600v-160H180v160Zm220 220h160v-160H400v160Zm0 220h160v-160H400v160ZM180-400h160v-160H180v160Zm440 0h160v-160H620v160ZM180-180h160v-160H180v160Zm440 0h160v-160H620v160Z\"/>\n",
              "  </svg>\n",
              "    </button>\n",
              "\n",
              "  <style>\n",
              "    .colab-df-container {\n",
              "      display:flex;\n",
              "      gap: 12px;\n",
              "    }\n",
              "\n",
              "    .colab-df-convert {\n",
              "      background-color: #E8F0FE;\n",
              "      border: none;\n",
              "      border-radius: 50%;\n",
              "      cursor: pointer;\n",
              "      display: none;\n",
              "      fill: #1967D2;\n",
              "      height: 32px;\n",
              "      padding: 0 0 0 0;\n",
              "      width: 32px;\n",
              "    }\n",
              "\n",
              "    .colab-df-convert:hover {\n",
              "      background-color: #E2EBFA;\n",
              "      box-shadow: 0px 1px 2px rgba(60, 64, 67, 0.3), 0px 1px 3px 1px rgba(60, 64, 67, 0.15);\n",
              "      fill: #174EA6;\n",
              "    }\n",
              "\n",
              "    .colab-df-buttons div {\n",
              "      margin-bottom: 4px;\n",
              "    }\n",
              "\n",
              "    [theme=dark] .colab-df-convert {\n",
              "      background-color: #3B4455;\n",
              "      fill: #D2E3FC;\n",
              "    }\n",
              "\n",
              "    [theme=dark] .colab-df-convert:hover {\n",
              "      background-color: #434B5C;\n",
              "      box-shadow: 0px 1px 3px 1px rgba(0, 0, 0, 0.15);\n",
              "      filter: drop-shadow(0px 1px 2px rgba(0, 0, 0, 0.3));\n",
              "      fill: #FFFFFF;\n",
              "    }\n",
              "  </style>\n",
              "\n",
              "    <script>\n",
              "      const buttonEl =\n",
              "        document.querySelector('#df-9b88b2ae-ccad-4ba9-8a19-149f8e37fba4 button.colab-df-convert');\n",
              "      buttonEl.style.display =\n",
              "        google.colab.kernel.accessAllowed ? 'block' : 'none';\n",
              "\n",
              "      async function convertToInteractive(key) {\n",
              "        const element = document.querySelector('#df-9b88b2ae-ccad-4ba9-8a19-149f8e37fba4');\n",
              "        const dataTable =\n",
              "          await google.colab.kernel.invokeFunction('convertToInteractive',\n",
              "                                                    [key], {});\n",
              "        if (!dataTable) return;\n",
              "\n",
              "        const docLinkHtml = 'Like what you see? Visit the ' +\n",
              "          '<a target=\"_blank\" href=https://colab.research.google.com/notebooks/data_table.ipynb>data table notebook</a>'\n",
              "          + ' to learn more about interactive tables.';\n",
              "        element.innerHTML = '';\n",
              "        dataTable['output_type'] = 'display_data';\n",
              "        await google.colab.output.renderOutput(dataTable, element);\n",
              "        const docLink = document.createElement('div');\n",
              "        docLink.innerHTML = docLinkHtml;\n",
              "        element.appendChild(docLink);\n",
              "      }\n",
              "    </script>\n",
              "  </div>\n",
              "\n",
              "    </div>\n",
              "  </div>\n"
            ]
          },
          "metadata": {},
          "execution_count": 4
        }
      ],
      "source": [
        "data[data[['O1', 'A1_1', 'A1_2', 'A2', 'A3', 'A4', 'A5', 'A6',\n",
        "       'A7', 'A8', 'B1', 'B2', 'B3', 'C1', 'C2', 'C3', 'C4', 'C5', 'C6', 'C7',\n",
        "       'C8', 'C9', 'C10', 'C11', 'C12', 'C13', 'C14', 'C15', 'D1', 'D2', 'D3',\n",
        "       'D4', 'D5', 'D6', 'D7', 'E1', 'E2', 'E3', 'E4', 'E5', 'E6', 'E7', 'E8',\n",
        "       'E9', 'E10', 'E11', 'E12', 'E13', 'E14', 'E15', 'E16', 'E17', 'E18',\n",
        "       'E19', 'E20', 'E21', 'E22', 'E23', 'E24', 'E25', 'E26', 'E27', 'E28',\n",
        "       'F1', 'F2', 'F3', 'F4', 'F5', 'F6', 'F7', 'F8', 'F9', 'F10', 'F11',\n",
        "       'F12', 'F13', 'F14', 'F15', 'F16', 'F17', 'F18', 'F19', 'F20', 'F21',\n",
        "       'F22', 'F23', 'F24', 'F25', 'F26', 'F27', 'F28', 'F29', 'F30', 'F31',\n",
        "       'F32']].duplicated() == True]"
      ],
      "id": "XcoKXnrvAdtz"
    },
    {
      "cell_type": "markdown",
      "metadata": {
        "id": "lRpwFmObEWtn"
      },
      "source": [
        "only one value out if 623 is a duplicate"
      ],
      "id": "lRpwFmObEWtn"
    },
    {
      "cell_type": "code",
      "execution_count": null,
      "metadata": {
        "colab": {
          "base_uri": "https://localhost:8080/"
        },
        "id": "u9Tf9IrAAtcz",
        "outputId": "94cd9a2d-a001-4692-cee8-515ad160dd4a"
      },
      "outputs": [
        {
          "output_type": "execute_result",
          "data": {
            "text/plain": [
              "array(['Almost everyday', 'Everyday', 'Every week', 'Almost every week',\n",
              "       'Less than every month', 'Every month', nan], dtype=object)"
            ]
          },
          "metadata": {},
          "execution_count": 5
        }
      ],
      "source": [
        "data['A5'].unique() # Two problematic entries\n",
        "data['D1'].unique() # NAN VALUES\n",
        "data['D2'].unique() # NAN VALUES\n",
        "data['D3'].unique() # NAN VALUES\n",
        "\n",
        "\n",
        "\n"
      ],
      "id": "u9Tf9IrAAtcz"
    },
    {
      "cell_type": "code",
      "execution_count": null,
      "metadata": {
        "colab": {
          "base_uri": "https://localhost:8080/"
        },
        "id": "W1ey-E_hGa2u",
        "outputId": "3161fff6-2090-4f5f-b37a-817a4c76bca2"
      },
      "outputs": [
        {
          "output_type": "stream",
          "name": "stdout",
          "text": [
            "Empty DataFrame\n",
            "Columns: [Column1, O1, A1_1, A1_2, A2, A3, A4, A5, A6, A7, A8, B1, B2, B3, C1, C2, C3, C4, C5, C6, C7, C8, C9, C10, C11, C12, C13, C14, C15, D1, D2, D3, D4, D5, D6, D7, E1, E2, E3, E4, E5, E6, E7, E8, E9, E10, E11, E12, E13, E14, E15, E16, E17, E18, E19, E20, E21, E22, E23, E24, E25, E26, E27, E28, F1, F2, F3, F4, F5, F6, F7, F8, F9, F10, F11, F12, F13, F14, F15, F16, F17, F18, F19, F20, F21, F22, F23, F24, F25, F26, F27, F28, F29, F30, F31, F32, SUM_C]\n",
            "Index: []\n",
            "\n",
            "[0 rows x 97 columns]\n",
            "Empty DataFrame\n",
            "Columns: [Column1, O1, A1_1, A1_2, A2, A3, A4, A5, A6, A7, A8, B1, B2, B3, C1, C2, C3, C4, C5, C6, C7, C8, C9, C10, C11, C12, C13, C14, C15, D1, D2, D3, D4, D5, D6, D7, E1, E2, E3, E4, E5, E6, E7, E8, E9, E10, E11, E12, E13, E14, E15, E16, E17, E18, E19, E20, E21, E22, E23, E24, E25, E26, E27, E28, F1, F2, F3, F4, F5, F6, F7, F8, F9, F10, F11, F12, F13, F14, F15, F16, F17, F18, F19, F20, F21, F22, F23, F24, F25, F26, F27, F28, F29, F30, F31, F32, SUM_C]\n",
            "Index: []\n",
            "\n",
            "[0 rows x 97 columns]\n"
          ]
        }
      ],
      "source": [
        "print(data[data['A5']=='30s']) # need to do something\n",
        "print(data[data['A5']=='sub 28'])# need to do something"
      ],
      "id": "W1ey-E_hGa2u"
    },
    {
      "cell_type": "code",
      "execution_count": null,
      "metadata": {
        "colab": {
          "base_uri": "https://localhost:8080/"
        },
        "id": "xOiknoYSH7jc",
        "outputId": "475b2c9d-8525-430d-df35-b789c435dfb2"
      },
      "outputs": [
        {
          "output_type": "execute_result",
          "data": {
            "text/plain": [
              "array([11, 13, 14, 15, 16, 17, 18, 19, 20, 21, 22, 23, 24, 25, 26, 27, 28,\n",
              "       29, 30, 31, 32, 33, 34, 35, 36, 37, 38, 39, 40, 41, 42, 43, 45, 46,\n",
              "       48, 49, 55])"
            ]
          },
          "metadata": {},
          "execution_count": 7
        }
      ],
      "source": [
        "data['A5'].unique()"
      ],
      "id": "xOiknoYSH7jc"
    },
    {
      "cell_type": "markdown",
      "metadata": {
        "id": "Hjge6dtZWoiy"
      },
      "source": [
        "Removed problematic values"
      ],
      "id": "Hjge6dtZWoiy"
    },
    {
      "cell_type": "code",
      "execution_count": null,
      "metadata": {
        "colab": {
          "base_uri": "https://localhost:8080/"
        },
        "id": "2ZThkKBEVXOy",
        "outputId": "b9f37a06-717c-4e3d-cb5f-b9c919639ce1"
      },
      "outputs": [
        {
          "output_type": "execute_result",
          "data": {
            "text/plain": [
              "array([11, 13, 14, 15, 16, 17, 18, 19, 20, 21, 22, 23, 24, 25, 26, 27, 28,\n",
              "       29, 30, 31, 32, 33, 34, 35, 36, 37, 38, 39, 40, 41, 42, 43, 45, 46,\n",
              "       48, 49, 55])"
            ]
          },
          "metadata": {},
          "execution_count": 8
        }
      ],
      "source": [
        "data=data.drop(data[data['A5']=='30s'].index,axis=0)\n",
        "data=data.drop(data[data['A5']=='sub 28'].index,axis=0)\n",
        "data['A5'].unique()\n"
      ],
      "id": "2ZThkKBEVXOy"
    },
    {
      "cell_type": "markdown",
      "metadata": {
        "id": "4GtcbX_aIbWi"
      },
      "source": [
        "![image.png](data:image/png;base64,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)"
      ],
      "id": "4GtcbX_aIbWi"
    },
    {
      "cell_type": "markdown",
      "metadata": {
        "id": "dst6i2FSYXP2"
      },
      "source": [
        "\n",
        "Histogram for frequencies"
      ],
      "id": "dst6i2FSYXP2"
    },
    {
      "cell_type": "code",
      "execution_count": null,
      "metadata": {
        "colab": {
          "base_uri": "https://localhost:8080/",
          "height": 472
        },
        "id": "Apll4Wk_ZJka",
        "outputId": "4d0f0325-bc57-480a-c6b2-f3a6ad0cbaee"
      },
      "outputs": [
        {
          "output_type": "display_data",
          "data": {
            "text/plain": [
              "<Figure size 640x480 with 1 Axes>"
            ],
            "image/png": "[encoded data removed]"
          },
          "metadata": {}
        }
      ],
      "source": [
        "import pandas as pd\n",
        "import seaborn as sns\n",
        "import matplotlib.pyplot as plt\n",
        "\n",
        "# plotting two histograms on the same axis\n",
        "plt.hist(data['E17'], bins=10, alpha=0.45, color='red',range=[1,4],edgecolor='black')\n",
        "plt.hist(data[data['A2']=='Male']['E17'], bins=10, alpha=0.45, color='blue')\n",
        "plt.hist(data[data['A2']=='Female']['E17'], bins=10, alpha=0.45, color='green')\n",
        "\n",
        "plt.title(\"Frequency of the male and female player's in-game behaviour of cutting down the tree.\")\n",
        "\n",
        "plt.legend(['Total',\n",
        "            'Males','Females'])\n",
        "\n",
        "plt.xlabel(\"In-game Behavior Value\")\n",
        "plt.ylabel(\"Frequency\")\n",
        "plt.grid(False)\n",
        "plt.show()"
      ],
      "id": "Apll4Wk_ZJka"
    },
    {
      "cell_type": "code",
      "execution_count": null,
      "metadata": {
        "colab": {
          "base_uri": "https://localhost:8080/",
          "height": 472
        },
        "id": "-LKw3hzwRVAC",
        "outputId": "594c0a0b-8eef-4ff1-9ebe-58cf031ba3c0"
      },
      "outputs": [
        {
          "output_type": "display_data",
          "data": {
            "text/plain": [
              "<Figure size 640x480 with 1 Axes>"
            ],
            "image/png": "[encoded data removed]"
          },
          "metadata": {}
        }
      ],
      "source": [
        "import pandas as pd\n",
        "import seaborn as sns\n",
        "import matplotlib.pyplot as plt\n",
        "\n",
        "# plotting two histograms on the same axis\n",
        "\n",
        "plt.hist(data[data['A2']=='Male']['E17'], bins=10, alpha=0.45, color='blue')\n",
        "plt.hist(data[data['A2']=='Female']['E17'], bins=10, alpha=0.45, color='pink')\n",
        "\n",
        "plt.title(\"Frequency of the male and female player's in-game behaviour of cutting down the tree.\")\n",
        "\n",
        "plt.legend(['Males','Females'])\n",
        "\n",
        "plt.xlabel(\"In-game Behavior Value\")\n",
        "plt.ylabel(\"Frequency\")\n",
        "plt.grid(False)\n",
        "plt.show()"
      ],
      "id": "-LKw3hzwRVAC"
    },
    {
      "cell_type": "code",
      "execution_count": null,
      "metadata": {
        "colab": {
          "base_uri": "https://localhost:8080/"
        },
        "id": "mbq7QFEOO_zX",
        "outputId": "2541818c-b7fd-4407-f363-55dcae0d9d4e"
      },
      "outputs": [
        {
          "output_type": "execute_result",
          "data": {
            "text/plain": [
              "0      194\n",
              "1      231\n",
              "2      233\n",
              "3      208\n",
              "4      172\n",
              "      ... \n",
              "632    180\n",
              "633    198\n",
              "634    169\n",
              "635    200\n",
              "636    202\n",
              "Name: SUM_C_weighted, Length: 637, dtype: int64"
            ]
          },
          "metadata": {},
          "execution_count": 11
        }
      ],
      "source": [
        "data[\"SUM_C_weighted\"]=4*data[\"C1\"]+5*(data[\"C3\"]+data[\"C5\"])+4*(data[\"C7\"]+data[\"C9\"]+data[\"C11\"])+5*(data[\"C13\"]+data[\"C15\"])+(2*data[\"C2\"]+2*data[\"C4\"]+3*data[\"C6\"]+2*data[\"C8\"]+data[\"C10\"]+data[\"C12\"]+4*data[\"C14\"])\n",
        "data['SUM_C_weighted']"
      ],
      "id": "mbq7QFEOO_zX"
    },
    {
      "cell_type": "code",
      "execution_count": null,
      "metadata": {
        "colab": {
          "base_uri": "https://localhost:8080/"
        },
        "id": "BvLirADcOV3e",
        "outputId": "c5705c28-823f-443b-b139-0288cd337e83"
      },
      "outputs": [
        {
          "output_type": "execute_result",
          "data": {
            "text/plain": [
              "0      55\n",
              "1      67\n",
              "2      67\n",
              "3      59\n",
              "4      49\n",
              "       ..\n",
              "632    51\n",
              "633    55\n",
              "634    48\n",
              "635    59\n",
              "636    58\n",
              "Name: SUM_C, Length: 637, dtype: int64"
            ]
          },
          "metadata": {},
          "execution_count": 12
        }
      ],
      "source": [
        "data[\"SUM_C\"]=data[\"C1\"]+data[\"C3\"]+data[\"C5\"]+data[\"C7\"]+data[\"C9\"]+data[\"C11\"]+data[\"C13\"]+data[\"C15\"]+data[\"C2\"]+data[\"C4\"]+data[\"C6\"]+data[\"C8\"]+data[\"C10\"]+data[\"C12\"]+data[\"C14\"]\n",
        "data[\"SUM_C\"]"
      ],
      "id": "BvLirADcOV3e"
    },
    {
      "cell_type": "code",
      "source": [
        "data.columns"
      ],
      "metadata": {
        "colab": {
          "base_uri": "https://localhost:8080/"
        },
        "id": "UEWLhZiHdH4H",
        "outputId": "a3c1dcc3-d031-4167-e15d-c400c5faffba"
      },
      "id": "UEWLhZiHdH4H",
      "execution_count": null,
      "outputs": [
        {
          "output_type": "execute_result",
          "data": {
            "text/plain": [
              "Index(['Column1', 'O1', 'A1_1', 'A1_2', 'A2', 'A3', 'A4', 'A5', 'A6', 'A7',\n",
              "       'A8', 'B1', 'B2', 'B3', 'C1', 'C2', 'C3', 'C4', 'C5', 'C6', 'C7', 'C8',\n",
              "       'C9', 'C10', 'C11', 'C12', 'C13', 'C14', 'C15', 'D1', 'D2', 'D3', 'D4',\n",
              "       'D5', 'D6', 'D7', 'E1', 'E2', 'E3', 'E4', 'E5', 'E6', 'E7', 'E8', 'E9',\n",
              "       'E10', 'E11', 'E12', 'E13', 'E14', 'E15', 'E16', 'E17', 'E18', 'E19',\n",
              "       'E20', 'E21', 'E22', 'E23', 'E24', 'E25', 'E26', 'E27', 'E28', 'F1',\n",
              "       'F2', 'F3', 'F4', 'F5', 'F6', 'F7', 'F8', 'F9', 'F10', 'F11', 'F12',\n",
              "       'F13', 'F14', 'F15', 'F16', 'F17', 'F18', 'F19', 'F20', 'F21', 'F22',\n",
              "       'F23', 'F24', 'F25', 'F26', 'F27', 'F28', 'F29', 'F30', 'F31', 'F32',\n",
              "       'SUM_C', 'SUM_C_weighted'],\n",
              "      dtype='object')"
            ]
          },
          "metadata": {},
          "execution_count": 13
        }
      ]
    },
    {
      "cell_type": "code",
      "execution_count": null,
      "metadata": {
        "id": "GZ92JYpfpv1j"
      },
      "outputs": [],
      "source": [
        "data=data.drop(columns=['Column1', 'O1', 'A1_1','A3','B1','B2','B3','C1', 'C2', 'C3', 'C4', 'C5', 'C6', 'C7',\n",
        "       'C8', 'C9', 'C10', 'C11', 'C12', 'C13', 'C14', 'C15', 'D1', 'D2', 'D3',\n",
        "       'D4', 'D5', 'D6', 'D7', 'E1', 'E2', 'E3', 'E4', 'E5', 'E6', 'E7', 'E8',\n",
        "       'E9', 'E10', 'E11', 'E12', 'E13', 'E14', 'E15', 'E16', 'E17', 'E18',\n",
        "       'E19', 'E20', 'E21', 'E22', 'E23', 'E24', 'E25', 'E26', 'E27', 'E28',\n",
        "       'F1', 'F2', 'F3', 'F4', 'F5', 'F6', 'F7', 'F8', 'F9', 'F10', 'F11',\n",
        "       'F12', 'F13', 'F14', 'F15', 'F16', 'F17', 'F18', 'F19', 'F20', 'F21',\n",
        "       'F22', 'F23', 'F24', 'F25', 'F26', 'F27', 'F28', 'F29', 'F30', 'F31',\n",
        "       'F32'])"
      ],
      "id": "GZ92JYpfpv1j"
    },
    {
      "cell_type": "code",
      "execution_count": null,
      "metadata": {
        "colab": {
          "base_uri": "https://localhost:8080/",
          "height": 424
        },
        "id": "fxFcdzhmMDhE",
        "outputId": "caf89ea4-8c08-4145-bcf0-b2c126593064"
      },
      "outputs": [
        {
          "output_type": "execute_result",
          "data": {
            "text/plain": [
              "          A1_2      A2     A4  A5                  A6  \\\n",
              "0         Asia    Male  A pet  11               Asian   \n",
              "1    US/Canada    Male   Both  13               White   \n",
              "2    US/Canada    Male   Both  13               White   \n",
              "3         Asia  Female  A pet  13               Asian   \n",
              "4    US/Canada    Male  A pet  14  Hispanic or Latino   \n",
              "..         ...     ...    ...  ..                 ...   \n",
              "632         EU  Female  A pet  46               White   \n",
              "633  US/Canada  Female   Both  48               White   \n",
              "634         EU  Female   Both  48               White   \n",
              "635  US/Canada  Female  A pet  49               White   \n",
              "636  US/Canada  Female  A pet  55               White   \n",
              "\n",
              "                                  A7  \\\n",
              "0              Single, never married   \n",
              "1              Single, never married   \n",
              "2              Single, never married   \n",
              "3              Single, never married   \n",
              "4              Single, never married   \n",
              "..                               ...   \n",
              "632  Married or domestic partnership   \n",
              "633  Married or domestic partnership   \n",
              "634  Married or domestic partnership   \n",
              "635                          Widowed   \n",
              "636  Married or domestic partnership   \n",
              "\n",
              "                                                 A8  SUM_C  SUM_C_weighted  \n",
              "0                                         A student     55             194  \n",
              "1                                         A student     67             231  \n",
              "2                                         A student     67             233  \n",
              "3                                         A student     59             208  \n",
              "4                                         A student     49             172  \n",
              "..                                              ...    ...             ...  \n",
              "632                              Employed for wages     51             180  \n",
              "633                              Employed for wages     55             198  \n",
              "634                              Employed for wages     48             169  \n",
              "635  Out of work but not currently looking for work     59             200  \n",
              "636                                   Self-employed     58             202  \n",
              "\n",
              "[637 rows x 9 columns]"
            ],
            "text/html": [
              "\n",
              "  <div id=\"df-7b9c9180-2935-46ec-a4c3-4ab84f97df0a\" class=\"colab-df-container\">\n",
              "    <div>\n",
              "<style scoped>\n",
              "    .dataframe tbody tr th:only-of-type {\n",
              "        vertical-align: middle;\n",
              "    }\n",
              "\n",
              "    .dataframe tbody tr th {\n",
              "        vertical-align: top;\n",
              "    }\n",
              "\n",
              "    .dataframe thead th {\n",
              "        text-align: right;\n",
              "    }\n",
              "</style>\n",
              "<table border=\"1\" class=\"dataframe\">\n",
              "  <thead>\n",
              "    <tr style=\"text-align: right;\">\n",
              "      <th></th>\n",
              "      <th>A1_2</th>\n",
              "      <th>A2</th>\n",
              "      <th>A4</th>\n",
              "      <th>A5</th>\n",
              "      <th>A6</th>\n",
              "      <th>A7</th>\n",
              "      <th>A8</th>\n",
              "      <th>SUM_C</th>\n",
              "      <th>SUM_C_weighted</th>\n",
              "    </tr>\n",
              "  </thead>\n",
              "  <tbody>\n",
              "    <tr>\n",
              "      <th>0</th>\n",
              "      <td>Asia</td>\n",
              "      <td>Male</td>\n",
              "      <td>A pet</td>\n",
              "      <td>11</td>\n",
              "      <td>Asian</td>\n",
              "      <td>Single, never married</td>\n",
              "      <td>A student</td>\n",
              "      <td>55</td>\n",
              "      <td>194</td>\n",
              "    </tr>\n",
              "    <tr>\n",
              "      <th>1</th>\n",
              "      <td>US/Canada</td>\n",
              "      <td>Male</td>\n",
              "      <td>Both</td>\n",
              "      <td>13</td>\n",
              "      <td>White</td>\n",
              "      <td>Single, never married</td>\n",
              "      <td>A student</td>\n",
              "      <td>67</td>\n",
              "      <td>231</td>\n",
              "    </tr>\n",
              "    <tr>\n",
              "      <th>2</th>\n",
              "      <td>US/Canada</td>\n",
              "      <td>Male</td>\n",
              "      <td>Both</td>\n",
              "      <td>13</td>\n",
              "      <td>White</td>\n",
              "      <td>Single, never married</td>\n",
              "      <td>A student</td>\n",
              "      <td>67</td>\n",
              "      <td>233</td>\n",
              "    </tr>\n",
              "    <tr>\n",
              "      <th>3</th>\n",
              "      <td>Asia</td>\n",
              "      <td>Female</td>\n",
              "      <td>A pet</td>\n",
              "      <td>13</td>\n",
              "      <td>Asian</td>\n",
              "      <td>Single, never married</td>\n",
              "      <td>A student</td>\n",
              "      <td>59</td>\n",
              "      <td>208</td>\n",
              "    </tr>\n",
              "    <tr>\n",
              "      <th>4</th>\n",
              "      <td>US/Canada</td>\n",
              "      <td>Male</td>\n",
              "      <td>A pet</td>\n",
              "      <td>14</td>\n",
              "      <td>Hispanic or Latino</td>\n",
              "      <td>Single, never married</td>\n",
              "      <td>A student</td>\n",
              "      <td>49</td>\n",
              "      <td>172</td>\n",
              "    </tr>\n",
              "    <tr>\n",
              "      <th>...</th>\n",
              "      <td>...</td>\n",
              "      <td>...</td>\n",
              "      <td>...</td>\n",
              "      <td>...</td>\n",
              "      <td>...</td>\n",
              "      <td>...</td>\n",
              "      <td>...</td>\n",
              "      <td>...</td>\n",
              "      <td>...</td>\n",
              "    </tr>\n",
              "    <tr>\n",
              "      <th>632</th>\n",
              "      <td>EU</td>\n",
              "      <td>Female</td>\n",
              "      <td>A pet</td>\n",
              "      <td>46</td>\n",
              "      <td>White</td>\n",
              "      <td>Married or domestic partnership</td>\n",
              "      <td>Employed for wages</td>\n",
              "      <td>51</td>\n",
              "      <td>180</td>\n",
              "    </tr>\n",
              "    <tr>\n",
              "      <th>633</th>\n",
              "      <td>US/Canada</td>\n",
              "      <td>Female</td>\n",
              "      <td>Both</td>\n",
              "      <td>48</td>\n",
              "      <td>White</td>\n",
              "      <td>Married or domestic partnership</td>\n",
              "      <td>Employed for wages</td>\n",
              "      <td>55</td>\n",
              "      <td>198</td>\n",
              "    </tr>\n",
              "    <tr>\n",
              "      <th>634</th>\n",
              "      <td>EU</td>\n",
              "      <td>Female</td>\n",
              "      <td>Both</td>\n",
              "      <td>48</td>\n",
              "      <td>White</td>\n",
              "      <td>Married or domestic partnership</td>\n",
              "      <td>Employed for wages</td>\n",
              "      <td>48</td>\n",
              "      <td>169</td>\n",
              "    </tr>\n",
              "    <tr>\n",
              "      <th>635</th>\n",
              "      <td>US/Canada</td>\n",
              "      <td>Female</td>\n",
              "      <td>A pet</td>\n",
              "      <td>49</td>\n",
              "      <td>White</td>\n",
              "      <td>Widowed</td>\n",
              "      <td>Out of work but not currently looking for work</td>\n",
              "      <td>59</td>\n",
              "      <td>200</td>\n",
              "    </tr>\n",
              "    <tr>\n",
              "      <th>636</th>\n",
              "      <td>US/Canada</td>\n",
              "      <td>Female</td>\n",
              "      <td>A pet</td>\n",
              "      <td>55</td>\n",
              "      <td>White</td>\n",
              "      <td>Married or domestic partnership</td>\n",
              "      <td>Self-employed</td>\n",
              "      <td>58</td>\n",
              "      <td>202</td>\n",
              "    </tr>\n",
              "  </tbody>\n",
              "</table>\n",
              "<p>637 rows × 9 columns</p>\n",
              "</div>\n",
              "    <div class=\"colab-df-buttons\">\n",
              "\n",
              "  <div class=\"colab-df-container\">\n",
              "    <button class=\"colab-df-convert\" onclick=\"convertToInteractive('df-7b9c9180-2935-46ec-a4c3-4ab84f97df0a')\"\n",
              "            title=\"Convert this dataframe to an interactive table.\"\n",
              "            style=\"display:none;\">\n",
              "\n",
              "  <svg xmlns=\"http://www.w3.org/2000/svg\" height=\"24px\" viewBox=\"0 -960 960 960\">\n",
              "    <path d=\"M120-120v-720h720v720H120Zm60-500h600v-160H180v160Zm220 220h160v-160H400v160Zm0 220h160v-160H400v160ZM180-400h160v-160H180v160Zm440 0h160v-160H620v160ZM180-180h160v-160H180v160Zm440 0h160v-160H620v160Z\"/>\n",
              "  </svg>\n",
              "    </button>\n",
              "\n",
              "  <style>\n",
              "    .colab-df-container {\n",
              "      display:flex;\n",
              "      gap: 12px;\n",
              "    }\n",
              "\n",
              "    .colab-df-convert {\n",
              "      background-color: #E8F0FE;\n",
              "      border: none;\n",
              "      border-radius: 50%;\n",
              "      cursor: pointer;\n",
              "      display: none;\n",
              "      fill: #1967D2;\n",
              "      height: 32px;\n",
              "      padding: 0 0 0 0;\n",
              "      width: 32px;\n",
              "    }\n",
              "\n",
              "    .colab-df-convert:hover {\n",
              "      background-color: #E2EBFA;\n",
              "      box-shadow: 0px 1px 2px rgba(60, 64, 67, 0.3), 0px 1px 3px 1px rgba(60, 64, 67, 0.15);\n",
              "      fill: #174EA6;\n",
              "    }\n",
              "\n",
              "    .colab-df-buttons div {\n",
              "      margin-bottom: 4px;\n",
              "    }\n",
              "\n",
              "    [theme=dark] .colab-df-convert {\n",
              "      background-color: #3B4455;\n",
              "      fill: #D2E3FC;\n",
              "    }\n",
              "\n",
              "    [theme=dark] .colab-df-convert:hover {\n",
              "      background-color: #434B5C;\n",
              "      box-shadow: 0px 1px 3px 1px rgba(0, 0, 0, 0.15);\n",
              "      filter: drop-shadow(0px 1px 2px rgba(0, 0, 0, 0.3));\n",
              "      fill: #FFFFFF;\n",
              "    }\n",
              "  </style>\n",
              "\n",
              "    <script>\n",
              "      const buttonEl =\n",
              "        document.querySelector('#df-7b9c9180-2935-46ec-a4c3-4ab84f97df0a button.colab-df-convert');\n",
              "      buttonEl.style.display =\n",
              "        google.colab.kernel.accessAllowed ? 'block' : 'none';\n",
              "\n",
              "      async function convertToInteractive(key) {\n",
              "        const element = document.querySelector('#df-7b9c9180-2935-46ec-a4c3-4ab84f97df0a');\n",
              "        const dataTable =\n",
              "          await google.colab.kernel.invokeFunction('convertToInteractive',\n",
              "                                                    [key], {});\n",
              "        if (!dataTable) return;\n",
              "\n",
              "        const docLinkHtml = 'Like what you see? Visit the ' +\n",
              "          '<a target=\"_blank\" href=https://colab.research.google.com/notebooks/data_table.ipynb>data table notebook</a>'\n",
              "          + ' to learn more about interactive tables.';\n",
              "        element.innerHTML = '';\n",
              "        dataTable['output_type'] = 'display_data';\n",
              "        await google.colab.output.renderOutput(dataTable, element);\n",
              "        const docLink = document.createElement('div');\n",
              "        docLink.innerHTML = docLinkHtml;\n",
              "        element.appendChild(docLink);\n",
              "      }\n",
              "    </script>\n",
              "  </div>\n",
              "\n",
              "\n",
              "<div id=\"df-35c92c48-31c1-439a-8047-5badf86bcbb5\">\n",
              "  <button class=\"colab-df-quickchart\" onclick=\"quickchart('df-35c92c48-31c1-439a-8047-5badf86bcbb5')\"\n",
              "            title=\"Suggest charts\"\n",
              "            style=\"display:none;\">\n",
              "\n",
              "<svg xmlns=\"http://www.w3.org/2000/svg\" height=\"24px\"viewBox=\"0 0 24 24\"\n",
              "     width=\"24px\">\n",
              "    <g>\n",
              "        <path d=\"M19 3H5c-1.1 0-2 .9-2 2v14c0 1.1.9 2 2 2h14c1.1 0 2-.9 2-2V5c0-1.1-.9-2-2-2zM9 17H7v-7h2v7zm4 0h-2V7h2v10zm4 0h-2v-4h2v4z\"/>\n",
              "    </g>\n",
              "</svg>\n",
              "  </button>\n",
              "\n",
              "<style>\n",
              "  .colab-df-quickchart {\n",
              "      --bg-color: #E8F0FE;\n",
              "      --fill-color: #1967D2;\n",
              "      --hover-bg-color: #E2EBFA;\n",
              "      --hover-fill-color: #174EA6;\n",
              "      --disabled-fill-color: #AAA;\n",
              "      --disabled-bg-color: #DDD;\n",
              "  }\n",
              "\n",
              "  [theme=dark] .colab-df-quickchart {\n",
              "      --bg-color: #3B4455;\n",
              "      --fill-color: #D2E3FC;\n",
              "      --hover-bg-color: #434B5C;\n",
              "      --hover-fill-color: #FFFFFF;\n",
              "      --disabled-bg-color: #3B4455;\n",
              "      --disabled-fill-color: #666;\n",
              "  }\n",
              "\n",
              "  .colab-df-quickchart {\n",
              "    background-color: var(--bg-color);\n",
              "    border: none;\n",
              "    border-radius: 50%;\n",
              "    cursor: pointer;\n",
              "    display: none;\n",
              "    fill: var(--fill-color);\n",
              "    height: 32px;\n",
              "    padding: 0;\n",
              "    width: 32px;\n",
              "  }\n",
              "\n",
              "  .colab-df-quickchart:hover {\n",
              "    background-color: var(--hover-bg-color);\n",
              "    box-shadow: 0 1px 2px rgba(60, 64, 67, 0.3), 0 1px 3px 1px rgba(60, 64, 67, 0.15);\n",
              "    fill: var(--button-hover-fill-color);\n",
              "  }\n",
              "\n",
              "  .colab-df-quickchart-complete:disabled,\n",
              "  .colab-df-quickchart-complete:disabled:hover {\n",
              "    background-color: var(--disabled-bg-color);\n",
              "    fill: var(--disabled-fill-color);\n",
              "    box-shadow: none;\n",
              "  }\n",
              "\n",
              "  .colab-df-spinner {\n",
              "    border: 2px solid var(--fill-color);\n",
              "    border-color: transparent;\n",
              "    border-bottom-color: var(--fill-color);\n",
              "    animation:\n",
              "      spin 1s steps(1) infinite;\n",
              "  }\n",
              "\n",
              "  @keyframes spin {\n",
              "    0% {\n",
              "      border-color: transparent;\n",
              "      border-bottom-color: var(--fill-color);\n",
              "      border-left-color: var(--fill-color);\n",
              "    }\n",
              "    20% {\n",
              "      border-color: transparent;\n",
              "      border-left-color: var(--fill-color);\n",
              "      border-top-color: var(--fill-color);\n",
              "    }\n",
              "    30% {\n",
              "      border-color: transparent;\n",
              "      border-left-color: var(--fill-color);\n",
              "      border-top-color: var(--fill-color);\n",
              "      border-right-color: var(--fill-color);\n",
              "    }\n",
              "    40% {\n",
              "      border-color: transparent;\n",
              "      border-right-color: var(--fill-color);\n",
              "      border-top-color: var(--fill-color);\n",
              "    }\n",
              "    60% {\n",
              "      border-color: transparent;\n",
              "      border-right-color: var(--fill-color);\n",
              "    }\n",
              "    80% {\n",
              "      border-color: transparent;\n",
              "      border-right-color: var(--fill-color);\n",
              "      border-bottom-color: var(--fill-color);\n",
              "    }\n",
              "    90% {\n",
              "      border-color: transparent;\n",
              "      border-bottom-color: var(--fill-color);\n",
              "    }\n",
              "  }\n",
              "</style>\n",
              "\n",
              "  <script>\n",
              "    async function quickchart(key) {\n",
              "      const quickchartButtonEl =\n",
              "        document.querySelector('#' + key + ' button');\n",
              "      quickchartButtonEl.disabled = true;  // To prevent multiple clicks.\n",
              "      quickchartButtonEl.classList.add('colab-df-spinner');\n",
              "      try {\n",
              "        const charts = await google.colab.kernel.invokeFunction(\n",
              "            'suggestCharts', [key], {});\n",
              "      } catch (error) {\n",
              "        console.error('Error during call to suggestCharts:', error);\n",
              "      }\n",
              "      quickchartButtonEl.classList.remove('colab-df-spinner');\n",
              "      quickchartButtonEl.classList.add('colab-df-quickchart-complete');\n",
              "    }\n",
              "    (() => {\n",
              "      let quickchartButtonEl =\n",
              "        document.querySelector('#df-35c92c48-31c1-439a-8047-5badf86bcbb5 button');\n",
              "      quickchartButtonEl.style.display =\n",
              "        google.colab.kernel.accessAllowed ? 'block' : 'none';\n",
              "    })();\n",
              "  </script>\n",
              "</div>\n",
              "    </div>\n",
              "  </div>\n"
            ]
          },
          "metadata": {},
          "execution_count": 15
        }
      ],
      "source": [
        "data"
      ],
      "id": "fxFcdzhmMDhE"
    },
    {
      "cell_type": "code",
      "execution_count": null,
      "metadata": {
        "id": "kCdHoBuOZTp-"
      },
      "outputs": [],
      "source": [
        "data[\"new\"]=data['SUM_C']"
      ],
      "id": "kCdHoBuOZTp-"
    },
    {
      "cell_type": "code",
      "source": [
        "data.iloc[1,:]"
      ],
      "metadata": {
        "colab": {
          "base_uri": "https://localhost:8080/"
        },
        "id": "IxlE5nCuaZT8",
        "outputId": "2bac6500-8151-46ae-9b17-680818cddf33"
      },
      "id": "IxlE5nCuaZT8",
      "execution_count": null,
      "outputs": [
        {
          "output_type": "execute_result",
          "data": {
            "text/plain": [
              "A1_2                          US/Canada\n",
              "A2                                 Male\n",
              "A4                                 Both\n",
              "A5                                   13\n",
              "A6                                White\n",
              "A7                Single, never married\n",
              "A8                            A student\n",
              "SUM_C                                67\n",
              "SUM_C_weighted                      231\n",
              "new                                  67\n",
              "Name: 1, dtype: object"
            ]
          },
          "metadata": {},
          "execution_count": 17
        }
      ]
    },
    {
      "cell_type": "code",
      "execution_count": null,
      "metadata": {
        "colab": {
          "base_uri": "https://localhost:8080/"
        },
        "outputId": "8705e44e-7147-401f-f912-f5a078ba9cb8",
        "id": "A95A2xN-ZTp_"
      },
      "outputs": [
        {
          "output_type": "stream",
          "name": "stderr",
          "text": [
            "<ipython-input-18-a9f7b70f4dec>:3: SettingWithCopyWarning: \n",
            "A value is trying to be set on a copy of a slice from a DataFrame\n",
            "\n",
            "See the caveats in the documentation: https://pandas.pydata.org/pandas-docs/stable/user_guide/indexing.html#returning-a-view-versus-a-copy\n",
            "  data[\"new\"][i]=1\n",
            "<ipython-input-18-a9f7b70f4dec>:5: SettingWithCopyWarning: \n",
            "A value is trying to be set on a copy of a slice from a DataFrame\n",
            "\n",
            "See the caveats in the documentation: https://pandas.pydata.org/pandas-docs/stable/user_guide/indexing.html#returning-a-view-versus-a-copy\n",
            "  data[\"new\"][i]=0\n"
          ]
        }
      ],
      "source": [
        "for i in range(len(data)):\n",
        "  if data.iloc[i,7]>data['SUM_C'].mean():\n",
        "    data[\"new\"][i]=1\n",
        "  else:\n",
        "    data[\"new\"][i]=0"
      ],
      "id": "A95A2xN-ZTp_"
    },
    {
      "cell_type": "markdown",
      "metadata": {
        "id": "6slLi1qdrvVN"
      },
      "source": [
        "By removing A1_1 more than 100 columns are reduced"
      ],
      "id": "6slLi1qdrvVN"
    },
    {
      "cell_type": "markdown",
      "metadata": {
        "id": "eJq3R8LWZ5C1"
      },
      "source": [
        "## model with classification"
      ],
      "id": "eJq3R8LWZ5C1"
    },
    {
      "cell_type": "code",
      "execution_count": null,
      "metadata": {
        "id": "0gjmt156HdnX"
      },
      "outputs": [],
      "source": [
        "final_dataset[\"new\"]=final_dataset['SUM_C']"
      ],
      "id": "0gjmt156HdnX"
    },
    {
      "cell_type": "code",
      "execution_count": null,
      "metadata": {
        "colab": {
          "base_uri": "https://localhost:8080/"
        },
        "id": "9OGpjCApBHc-",
        "outputId": "ebfacf74-6261-4cc7-db9c-71259c439565"
      },
      "outputs": [
        {
          "output_type": "stream",
          "name": "stderr",
          "text": [
            "<ipython-input-143-91e92302b74f>:3: SettingWithCopyWarning: \n",
            "A value is trying to be set on a copy of a slice from a DataFrame\n",
            "\n",
            "See the caveats in the documentation: https://pandas.pydata.org/pandas-docs/stable/user_guide/indexing.html#returning-a-view-versus-a-copy\n",
            "  final_dataset[\"new\"][i]=1\n",
            "<ipython-input-143-91e92302b74f>:5: SettingWithCopyWarning: \n",
            "A value is trying to be set on a copy of a slice from a DataFrame\n",
            "\n",
            "See the caveats in the documentation: https://pandas.pydata.org/pandas-docs/stable/user_guide/indexing.html#returning-a-view-versus-a-copy\n",
            "  final_dataset[\"new\"][i]=0\n"
          ]
        }
      ],
      "source": [
        "for i in range(len(final_dataset)):\n",
        "  if final_dataset.iloc[i,1]>final_dataset['SUM_C'].mean():\n",
        "    final_dataset[\"new\"][i]=1\n",
        "  else:\n",
        "    final_dataset[\"new\"][i]=0"
      ],
      "id": "9OGpjCApBHc-"
    },
    {
      "cell_type": "code",
      "execution_count": null,
      "metadata": {
        "colab": {
          "base_uri": "https://localhost:8080/",
          "height": 531
        },
        "id": "A3Bb2Ni7HmZW",
        "outputId": "4fb910b0-d616-4fb7-b82d-b44c134daf23"
      },
      "outputs": [
        {
          "output_type": "execute_result",
          "data": {
            "text/plain": [
              "     A5  SUM_C  SUM_C_weighted  A1_2_EU  A1_2_Other  A1_2_US/Canada  A2_Male  \\\n",
              "0    11     55             194        0           0               0        1   \n",
              "1    13     67             231        0           0               1        1   \n",
              "2    13     67             233        0           0               1        1   \n",
              "3    13     59             208        0           0               0        0   \n",
              "4    14     49             172        0           0               1        1   \n",
              "..   ..    ...             ...      ...         ...             ...      ...   \n",
              "632  46     51             180        1           0               0        0   \n",
              "633  48     55             198        0           0               1        0   \n",
              "634  48     48             169        1           0               0        0   \n",
              "635  49     59             200        0           0               1        0   \n",
              "636  55     58             202        0           0               1        0   \n",
              "\n",
              "     A3_High school  A3_Primary school  A3_Secondary school  ...  A7_Widowed  \\\n",
              "0                 0                  0                    1  ...           0   \n",
              "1                 0                  0                    1  ...           0   \n",
              "2                 0                  0                    1  ...           0   \n",
              "3                 1                  0                    0  ...           0   \n",
              "4                 0                  0                    1  ...           0   \n",
              "..              ...                ...                  ...  ...         ...   \n",
              "632               0                  0                    1  ...           0   \n",
              "633               0                  0                    0  ...           0   \n",
              "634               0                  0                    0  ...           0   \n",
              "635               0                  0                    0  ...           1   \n",
              "636               0                  0                    0  ...           0   \n",
              "\n",
              "     A8_A student  A8_Employed for wages  A8_Military  \\\n",
              "0               1                      0            0   \n",
              "1               1                      0            0   \n",
              "2               1                      0            0   \n",
              "3               1                      0            0   \n",
              "4               1                      0            0   \n",
              "..            ...                    ...          ...   \n",
              "632             0                      1            0   \n",
              "633             0                      1            0   \n",
              "634             0                      1            0   \n",
              "635             0                      0            0   \n",
              "636             0                      0            0   \n",
              "\n",
              "     A8_Out of work and looking for work  \\\n",
              "0                                      0   \n",
              "1                                      0   \n",
              "2                                      0   \n",
              "3                                      0   \n",
              "4                                      0   \n",
              "..                                   ...   \n",
              "632                                    0   \n",
              "633                                    0   \n",
              "634                                    0   \n",
              "635                                    0   \n",
              "636                                    0   \n",
              "\n",
              "     A8_Out of work but not currently looking for work  A8_Retired  \\\n",
              "0                                                    0           0   \n",
              "1                                                    0           0   \n",
              "2                                                    0           0   \n",
              "3                                                    0           0   \n",
              "4                                                    0           0   \n",
              "..                                                 ...         ...   \n",
              "632                                                  0           0   \n",
              "633                                                  0           0   \n",
              "634                                                  0           0   \n",
              "635                                                  1           0   \n",
              "636                                                  0           0   \n",
              "\n",
              "     A8_Self-employed  A8_Unable to work  new  \n",
              "0                   0                  0    1  \n",
              "1                   0                  0    1  \n",
              "2                   0                  0    1  \n",
              "3                   0                  0    1  \n",
              "4                   0                  0    0  \n",
              "..                ...                ...  ...  \n",
              "632                 0                  0    0  \n",
              "633                 0                  0    1  \n",
              "634                 0                  0    0  \n",
              "635                 0                  0    1  \n",
              "636                 1                  0    1  \n",
              "\n",
              "[637 rows x 33 columns]"
            ],
            "text/html": [
              "\n",
              "  <div id=\"df-ddc8e9fa-ca9c-4b8b-9a6b-3125c75bce2f\" class=\"colab-df-container\">\n",
              "    <div>\n",
              "<style scoped>\n",
              "    .dataframe tbody tr th:only-of-type {\n",
              "        vertical-align: middle;\n",
              "    }\n",
              "\n",
              "    .dataframe tbody tr th {\n",
              "        vertical-align: top;\n",
              "    }\n",
              "\n",
              "    .dataframe thead th {\n",
              "        text-align: right;\n",
              "    }\n",
              "</style>\n",
              "<table border=\"1\" class=\"dataframe\">\n",
              "  <thead>\n",
              "    <tr style=\"text-align: right;\">\n",
              "      <th></th>\n",
              "      <th>A5</th>\n",
              "      <th>SUM_C</th>\n",
              "      <th>SUM_C_weighted</th>\n",
              "      <th>A1_2_EU</th>\n",
              "      <th>A1_2_Other</th>\n",
              "      <th>A1_2_US/Canada</th>\n",
              "      <th>A2_Male</th>\n",
              "      <th>A3_High school</th>\n",
              "      <th>A3_Primary school</th>\n",
              "      <th>A3_Secondary school</th>\n",
              "      <th>...</th>\n",
              "      <th>A7_Widowed</th>\n",
              "      <th>A8_A student</th>\n",
              "      <th>A8_Employed for wages</th>\n",
              "      <th>A8_Military</th>\n",
              "      <th>A8_Out of work and looking for work</th>\n",
              "      <th>A8_Out of work but not currently looking for work</th>\n",
              "      <th>A8_Retired</th>\n",
              "      <th>A8_Self-employed</th>\n",
              "      <th>A8_Unable to work</th>\n",
              "      <th>new</th>\n",
              "    </tr>\n",
              "  </thead>\n",
              "  <tbody>\n",
              "    <tr>\n",
              "      <th>0</th>\n",
              "      <td>11</td>\n",
              "      <td>55</td>\n",
              "      <td>194</td>\n",
              "      <td>0</td>\n",
              "      <td>0</td>\n",
              "      <td>0</td>\n",
              "      <td>1</td>\n",
              "      <td>0</td>\n",
              "      <td>0</td>\n",
              "      <td>1</td>\n",
              "      <td>...</td>\n",
              "      <td>0</td>\n",
              "      <td>1</td>\n",
              "      <td>0</td>\n",
              "      <td>0</td>\n",
              "      <td>0</td>\n",
              "      <td>0</td>\n",
              "      <td>0</td>\n",
              "      <td>0</td>\n",
              "      <td>0</td>\n",
              "      <td>1</td>\n",
              "    </tr>\n",
              "    <tr>\n",
              "      <th>1</th>\n",
              "      <td>13</td>\n",
              "      <td>67</td>\n",
              "      <td>231</td>\n",
              "      <td>0</td>\n",
              "      <td>0</td>\n",
              "      <td>1</td>\n",
              "      <td>1</td>\n",
              "      <td>0</td>\n",
              "      <td>0</td>\n",
              "      <td>1</td>\n",
              "      <td>...</td>\n",
              "      <td>0</td>\n",
              "      <td>1</td>\n",
              "      <td>0</td>\n",
              "      <td>0</td>\n",
              "      <td>0</td>\n",
              "      <td>0</td>\n",
              "      <td>0</td>\n",
              "      <td>0</td>\n",
              "      <td>0</td>\n",
              "      <td>1</td>\n",
              "    </tr>\n",
              "    <tr>\n",
              "      <th>2</th>\n",
              "      <td>13</td>\n",
              "      <td>67</td>\n",
              "      <td>233</td>\n",
              "      <td>0</td>\n",
              "      <td>0</td>\n",
              "      <td>1</td>\n",
              "      <td>1</td>\n",
              "      <td>0</td>\n",
              "      <td>0</td>\n",
              "      <td>1</td>\n",
              "      <td>...</td>\n",
              "      <td>0</td>\n",
              "      <td>1</td>\n",
              "      <td>0</td>\n",
              "      <td>0</td>\n",
              "      <td>0</td>\n",
              "      <td>0</td>\n",
              "      <td>0</td>\n",
              "      <td>0</td>\n",
              "      <td>0</td>\n",
              "      <td>1</td>\n",
              "    </tr>\n",
              "    <tr>\n",
              "      <th>3</th>\n",
              "      <td>13</td>\n",
              "      <td>59</td>\n",
              "      <td>208</td>\n",
              "      <td>0</td>\n",
              "      <td>0</td>\n",
              "      <td>0</td>\n",
              "      <td>0</td>\n",
              "      <td>1</td>\n",
              "      <td>0</td>\n",
              "      <td>0</td>\n",
              "      <td>...</td>\n",
              "      <td>0</td>\n",
              "      <td>1</td>\n",
              "      <td>0</td>\n",
              "      <td>0</td>\n",
              "      <td>0</td>\n",
              "      <td>0</td>\n",
              "      <td>0</td>\n",
              "      <td>0</td>\n",
              "      <td>0</td>\n",
              "      <td>1</td>\n",
              "    </tr>\n",
              "    <tr>\n",
              "      <th>4</th>\n",
              "      <td>14</td>\n",
              "      <td>49</td>\n",
              "      <td>172</td>\n",
              "      <td>0</td>\n",
              "      <td>0</td>\n",
              "      <td>1</td>\n",
              "      <td>1</td>\n",
              "      <td>0</td>\n",
              "      <td>0</td>\n",
              "      <td>1</td>\n",
              "      <td>...</td>\n",
              "      <td>0</td>\n",
              "      <td>1</td>\n",
              "      <td>0</td>\n",
              "      <td>0</td>\n",
              "      <td>0</td>\n",
              "      <td>0</td>\n",
              "      <td>0</td>\n",
              "      <td>0</td>\n",
              "      <td>0</td>\n",
              "      <td>0</td>\n",
              "    </tr>\n",
              "    <tr>\n",
              "      <th>...</th>\n",
              "      <td>...</td>\n",
              "      <td>...</td>\n",
              "      <td>...</td>\n",
              "      <td>...</td>\n",
              "      <td>...</td>\n",
              "      <td>...</td>\n",
              "      <td>...</td>\n",
              "      <td>...</td>\n",
              "      <td>...</td>\n",
              "      <td>...</td>\n",
              "      <td>...</td>\n",
              "      <td>...</td>\n",
              "      <td>...</td>\n",
              "      <td>...</td>\n",
              "      <td>...</td>\n",
              "      <td>...</td>\n",
              "      <td>...</td>\n",
              "      <td>...</td>\n",
              "      <td>...</td>\n",
              "      <td>...</td>\n",
              "      <td>...</td>\n",
              "    </tr>\n",
              "    <tr>\n",
              "      <th>632</th>\n",
              "      <td>46</td>\n",
              "      <td>51</td>\n",
              "      <td>180</td>\n",
              "      <td>1</td>\n",
              "      <td>0</td>\n",
              "      <td>0</td>\n",
              "      <td>0</td>\n",
              "      <td>0</td>\n",
              "      <td>0</td>\n",
              "      <td>1</td>\n",
              "      <td>...</td>\n",
              "      <td>0</td>\n",
              "      <td>0</td>\n",
              "      <td>1</td>\n",
              "      <td>0</td>\n",
              "      <td>0</td>\n",
              "      <td>0</td>\n",
              "      <td>0</td>\n",
              "      <td>0</td>\n",
              "      <td>0</td>\n",
              "      <td>0</td>\n",
              "    </tr>\n",
              "    <tr>\n",
              "      <th>633</th>\n",
              "      <td>48</td>\n",
              "      <td>55</td>\n",
              "      <td>198</td>\n",
              "      <td>0</td>\n",
              "      <td>0</td>\n",
              "      <td>1</td>\n",
              "      <td>0</td>\n",
              "      <td>0</td>\n",
              "      <td>0</td>\n",
              "      <td>0</td>\n",
              "      <td>...</td>\n",
              "      <td>0</td>\n",
              "      <td>0</td>\n",
              "      <td>1</td>\n",
              "      <td>0</td>\n",
              "      <td>0</td>\n",
              "      <td>0</td>\n",
              "      <td>0</td>\n",
              "      <td>0</td>\n",
              "      <td>0</td>\n",
              "      <td>1</td>\n",
              "    </tr>\n",
              "    <tr>\n",
              "      <th>634</th>\n",
              "      <td>48</td>\n",
              "      <td>48</td>\n",
              "      <td>169</td>\n",
              "      <td>1</td>\n",
              "      <td>0</td>\n",
              "      <td>0</td>\n",
              "      <td>0</td>\n",
              "      <td>0</td>\n",
              "      <td>0</td>\n",
              "      <td>0</td>\n",
              "      <td>...</td>\n",
              "      <td>0</td>\n",
              "      <td>0</td>\n",
              "      <td>1</td>\n",
              "      <td>0</td>\n",
              "      <td>0</td>\n",
              "      <td>0</td>\n",
              "      <td>0</td>\n",
              "      <td>0</td>\n",
              "      <td>0</td>\n",
              "      <td>0</td>\n",
              "    </tr>\n",
              "    <tr>\n",
              "      <th>635</th>\n",
              "      <td>49</td>\n",
              "      <td>59</td>\n",
              "      <td>200</td>\n",
              "      <td>0</td>\n",
              "      <td>0</td>\n",
              "      <td>1</td>\n",
              "      <td>0</td>\n",
              "      <td>0</td>\n",
              "      <td>0</td>\n",
              "      <td>0</td>\n",
              "      <td>...</td>\n",
              "      <td>1</td>\n",
              "      <td>0</td>\n",
              "      <td>0</td>\n",
              "      <td>0</td>\n",
              "      <td>0</td>\n",
              "      <td>1</td>\n",
              "      <td>0</td>\n",
              "      <td>0</td>\n",
              "      <td>0</td>\n",
              "      <td>1</td>\n",
              "    </tr>\n",
              "    <tr>\n",
              "      <th>636</th>\n",
              "      <td>55</td>\n",
              "      <td>58</td>\n",
              "      <td>202</td>\n",
              "      <td>0</td>\n",
              "      <td>0</td>\n",
              "      <td>1</td>\n",
              "      <td>0</td>\n",
              "      <td>0</td>\n",
              "      <td>0</td>\n",
              "      <td>0</td>\n",
              "      <td>...</td>\n",
              "      <td>0</td>\n",
              "      <td>0</td>\n",
              "      <td>0</td>\n",
              "      <td>0</td>\n",
              "      <td>0</td>\n",
              "      <td>0</td>\n",
              "      <td>0</td>\n",
              "      <td>1</td>\n",
              "      <td>0</td>\n",
              "      <td>1</td>\n",
              "    </tr>\n",
              "  </tbody>\n",
              "</table>\n",
              "<p>637 rows × 33 columns</p>\n",
              "</div>\n",
              "    <div class=\"colab-df-buttons\">\n",
              "\n",
              "  <div class=\"colab-df-container\">\n",
              "    <button class=\"colab-df-convert\" onclick=\"convertToInteractive('df-ddc8e9fa-ca9c-4b8b-9a6b-3125c75bce2f')\"\n",
              "            title=\"Convert this dataframe to an interactive table.\"\n",
              "            style=\"display:none;\">\n",
              "\n",
              "  <svg xmlns=\"http://www.w3.org/2000/svg\" height=\"24px\" viewBox=\"0 -960 960 960\">\n",
              "    <path d=\"M120-120v-720h720v720H120Zm60-500h600v-160H180v160Zm220 220h160v-160H400v160Zm0 220h160v-160H400v160ZM180-400h160v-160H180v160Zm440 0h160v-160H620v160ZM180-180h160v-160H180v160Zm440 0h160v-160H620v160Z\"/>\n",
              "  </svg>\n",
              "    </button>\n",
              "\n",
              "  <style>\n",
              "    .colab-df-container {\n",
              "      display:flex;\n",
              "      gap: 12px;\n",
              "    }\n",
              "\n",
              "    .colab-df-convert {\n",
              "      background-color: #E8F0FE;\n",
              "      border: none;\n",
              "      border-radius: 50%;\n",
              "      cursor: pointer;\n",
              "      display: none;\n",
              "      fill: #1967D2;\n",
              "      height: 32px;\n",
              "      padding: 0 0 0 0;\n",
              "      width: 32px;\n",
              "    }\n",
              "\n",
              "    .colab-df-convert:hover {\n",
              "      background-color: #E2EBFA;\n",
              "      box-shadow: 0px 1px 2px rgba(60, 64, 67, 0.3), 0px 1px 3px 1px rgba(60, 64, 67, 0.15);\n",
              "      fill: #174EA6;\n",
              "    }\n",
              "\n",
              "    .colab-df-buttons div {\n",
              "      margin-bottom: 4px;\n",
              "    }\n",
              "\n",
              "    [theme=dark] .colab-df-convert {\n",
              "      background-color: #3B4455;\n",
              "      fill: #D2E3FC;\n",
              "    }\n",
              "\n",
              "    [theme=dark] .colab-df-convert:hover {\n",
              "      background-color: #434B5C;\n",
              "      box-shadow: 0px 1px 3px 1px rgba(0, 0, 0, 0.15);\n",
              "      filter: drop-shadow(0px 1px 2px rgba(0, 0, 0, 0.3));\n",
              "      fill: #FFFFFF;\n",
              "    }\n",
              "  </style>\n",
              "\n",
              "    <script>\n",
              "      const buttonEl =\n",
              "        document.querySelector('#df-ddc8e9fa-ca9c-4b8b-9a6b-3125c75bce2f button.colab-df-convert');\n",
              "      buttonEl.style.display =\n",
              "        google.colab.kernel.accessAllowed ? 'block' : 'none';\n",
              "\n",
              "      async function convertToInteractive(key) {\n",
              "        const element = document.querySelector('#df-ddc8e9fa-ca9c-4b8b-9a6b-3125c75bce2f');\n",
              "        const dataTable =\n",
              "          await google.colab.kernel.invokeFunction('convertToInteractive',\n",
              "                                                    [key], {});\n",
              "        if (!dataTable) return;\n",
              "\n",
              "        const docLinkHtml = 'Like what you see? Visit the ' +\n",
              "          '<a target=\"_blank\" href=https://colab.research.google.com/notebooks/data_table.ipynb>data table notebook</a>'\n",
              "          + ' to learn more about interactive tables.';\n",
              "        element.innerHTML = '';\n",
              "        dataTable['output_type'] = 'display_data';\n",
              "        await google.colab.output.renderOutput(dataTable, element);\n",
              "        const docLink = document.createElement('div');\n",
              "        docLink.innerHTML = docLinkHtml;\n",
              "        element.appendChild(docLink);\n",
              "      }\n",
              "    </script>\n",
              "  </div>\n",
              "\n",
              "\n",
              "<div id=\"df-5dddd8ac-92a6-46b3-ac07-94b70e533400\">\n",
              "  <button class=\"colab-df-quickchart\" onclick=\"quickchart('df-5dddd8ac-92a6-46b3-ac07-94b70e533400')\"\n",
              "            title=\"Suggest charts\"\n",
              "            style=\"display:none;\">\n",
              "\n",
              "<svg xmlns=\"http://www.w3.org/2000/svg\" height=\"24px\"viewBox=\"0 0 24 24\"\n",
              "     width=\"24px\">\n",
              "    <g>\n",
              "        <path d=\"M19 3H5c-1.1 0-2 .9-2 2v14c0 1.1.9 2 2 2h14c1.1 0 2-.9 2-2V5c0-1.1-.9-2-2-2zM9 17H7v-7h2v7zm4 0h-2V7h2v10zm4 0h-2v-4h2v4z\"/>\n",
              "    </g>\n",
              "</svg>\n",
              "  </button>\n",
              "\n",
              "<style>\n",
              "  .colab-df-quickchart {\n",
              "      --bg-color: #E8F0FE;\n",
              "      --fill-color: #1967D2;\n",
              "      --hover-bg-color: #E2EBFA;\n",
              "      --hover-fill-color: #174EA6;\n",
              "      --disabled-fill-color: #AAA;\n",
              "      --disabled-bg-color: #DDD;\n",
              "  }\n",
              "\n",
              "  [theme=dark] .colab-df-quickchart {\n",
              "      --bg-color: #3B4455;\n",
              "      --fill-color: #D2E3FC;\n",
              "      --hover-bg-color: #434B5C;\n",
              "      --hover-fill-color: #FFFFFF;\n",
              "      --disabled-bg-color: #3B4455;\n",
              "      --disabled-fill-color: #666;\n",
              "  }\n",
              "\n",
              "  .colab-df-quickchart {\n",
              "    background-color: var(--bg-color);\n",
              "    border: none;\n",
              "    border-radius: 50%;\n",
              "    cursor: pointer;\n",
              "    display: none;\n",
              "    fill: var(--fill-color);\n",
              "    height: 32px;\n",
              "    padding: 0;\n",
              "    width: 32px;\n",
              "  }\n",
              "\n",
              "  .colab-df-quickchart:hover {\n",
              "    background-color: var(--hover-bg-color);\n",
              "    box-shadow: 0 1px 2px rgba(60, 64, 67, 0.3), 0 1px 3px 1px rgba(60, 64, 67, 0.15);\n",
              "    fill: var(--button-hover-fill-color);\n",
              "  }\n",
              "\n",
              "  .colab-df-quickchart-complete:disabled,\n",
              "  .colab-df-quickchart-complete:disabled:hover {\n",
              "    background-color: var(--disabled-bg-color);\n",
              "    fill: var(--disabled-fill-color);\n",
              "    box-shadow: none;\n",
              "  }\n",
              "\n",
              "  .colab-df-spinner {\n",
              "    border: 2px solid var(--fill-color);\n",
              "    border-color: transparent;\n",
              "    border-bottom-color: var(--fill-color);\n",
              "    animation:\n",
              "      spin 1s steps(1) infinite;\n",
              "  }\n",
              "\n",
              "  @keyframes spin {\n",
              "    0% {\n",
              "      border-color: transparent;\n",
              "      border-bottom-color: var(--fill-color);\n",
              "      border-left-color: var(--fill-color);\n",
              "    }\n",
              "    20% {\n",
              "      border-color: transparent;\n",
              "      border-left-color: var(--fill-color);\n",
              "      border-top-color: var(--fill-color);\n",
              "    }\n",
              "    30% {\n",
              "      border-color: transparent;\n",
              "      border-left-color: var(--fill-color);\n",
              "      border-top-color: var(--fill-color);\n",
              "      border-right-color: var(--fill-color);\n",
              "    }\n",
              "    40% {\n",
              "      border-color: transparent;\n",
              "      border-right-color: var(--fill-color);\n",
              "      border-top-color: var(--fill-color);\n",
              "    }\n",
              "    60% {\n",
              "      border-color: transparent;\n",
              "      border-right-color: var(--fill-color);\n",
              "    }\n",
              "    80% {\n",
              "      border-color: transparent;\n",
              "      border-right-color: var(--fill-color);\n",
              "      border-bottom-color: var(--fill-color);\n",
              "    }\n",
              "    90% {\n",
              "      border-color: transparent;\n",
              "      border-bottom-color: var(--fill-color);\n",
              "    }\n",
              "  }\n",
              "</style>\n",
              "\n",
              "  <script>\n",
              "    async function quickchart(key) {\n",
              "      const quickchartButtonEl =\n",
              "        document.querySelector('#' + key + ' button');\n",
              "      quickchartButtonEl.disabled = true;  // To prevent multiple clicks.\n",
              "      quickchartButtonEl.classList.add('colab-df-spinner');\n",
              "      try {\n",
              "        const charts = await google.colab.kernel.invokeFunction(\n",
              "            'suggestCharts', [key], {});\n",
              "      } catch (error) {\n",
              "        console.error('Error during call to suggestCharts:', error);\n",
              "      }\n",
              "      quickchartButtonEl.classList.remove('colab-df-spinner');\n",
              "      quickchartButtonEl.classList.add('colab-df-quickchart-complete');\n",
              "    }\n",
              "    (() => {\n",
              "      let quickchartButtonEl =\n",
              "        document.querySelector('#df-5dddd8ac-92a6-46b3-ac07-94b70e533400 button');\n",
              "      quickchartButtonEl.style.display =\n",
              "        google.colab.kernel.accessAllowed ? 'block' : 'none';\n",
              "    })();\n",
              "  </script>\n",
              "</div>\n",
              "    </div>\n",
              "  </div>\n"
            ]
          },
          "metadata": {},
          "execution_count": 144
        }
      ],
      "source": [
        "final_dataset"
      ],
      "id": "A3Bb2Ni7HmZW"
    },
    {
      "cell_type": "code",
      "execution_count": null,
      "metadata": {
        "colab": {
          "base_uri": "https://localhost:8080/"
        },
        "id": "kXPZCKZoAeay",
        "outputId": "7c44bdd0-5bc6-4eb5-a127-7060d7dadc41"
      },
      "outputs": [
        {
          "output_type": "stream",
          "name": "stdout",
          "text": [
            "Index(['A5', 'SUM_C', 'SUM_C_weighted', 'A1_2_EU', 'A1_2_Other',\n",
            "       'A1_2_US/Canada', 'A2_Male', 'A3_High school', 'A3_Primary school',\n",
            "       'A3_Secondary school', 'A3_Undergraduate school', 'A4_A pet', 'A4_Both',\n",
            "       'A4_None', 'A6_Black or African American', 'A6_Hispanic or Latino',\n",
            "       'A6_Native American or American Indian', 'A6_Other',\n",
            "       'A6_Pacific Islander', 'A6_White', 'A7_Married or domestic partnership',\n",
            "       'A7_Separated', 'A7_Single, never married', 'A7_Widowed',\n",
            "       'A8_A student', 'A8_Employed for wages', 'A8_Military',\n",
            "       'A8_Out of work and looking for work',\n",
            "       'A8_Out of work but not currently looking for work', 'A8_Retired',\n",
            "       'A8_Self-employed', 'A8_Unable to work', 'new'],\n",
            "      dtype='object')\n"
          ]
        }
      ],
      "source": [
        "print(final_dataset.columns)"
      ],
      "id": "kXPZCKZoAeay"
    },
    {
      "cell_type": "code",
      "execution_count": null,
      "metadata": {
        "id": "ZUAjEiu6Aea0"
      },
      "outputs": [],
      "source": [
        "x=final_dataset.iloc[:,:]\n",
        "x=x.drop(columns=['SUM_C','new','SUM_C_weighted','A3'])\n",
        "y=final_dataset.iloc[:,-1]\n"
      ],
      "id": "ZUAjEiu6Aea0"
    },
    {
      "cell_type": "code",
      "execution_count": null,
      "metadata": {
        "colab": {
          "base_uri": "https://localhost:8080/"
        },
        "id": "prc_VOllZWOh",
        "outputId": "b277d38a-2e51-40f6-a808-31d6ddb602b5"
      },
      "outputs": [
        {
          "output_type": "stream",
          "name": "stdout",
          "text": [
            "Index(['A5', 'A1_2_EU', 'A1_2_Other', 'A1_2_US/Canada', 'A2_Male',\n",
            "       'A3_High school', 'A3_Primary school', 'A3_Secondary school',\n",
            "       'A3_Undergraduate school', 'A4_A pet', 'A4_Both', 'A4_None',\n",
            "       'A6_Black or African American', 'A6_Hispanic or Latino',\n",
            "       'A6_Native American or American Indian', 'A6_Other',\n",
            "       'A6_Pacific Islander', 'A6_White', 'A7_Married or domestic partnership',\n",
            "       'A7_Separated', 'A7_Single, never married', 'A7_Widowed',\n",
            "       'A8_A student', 'A8_Employed for wages', 'A8_Military',\n",
            "       'A8_Out of work and looking for work',\n",
            "       'A8_Out of work but not currently looking for work', 'A8_Retired',\n",
            "       'A8_Self-employed', 'A8_Unable to work'],\n",
            "      dtype='object')\n",
            "0      1\n",
            "1      1\n",
            "2      1\n",
            "3      1\n",
            "4      0\n",
            "      ..\n",
            "632    0\n",
            "633    1\n",
            "634    0\n",
            "635    1\n",
            "636    1\n",
            "Name: new, Length: 637, dtype: int64\n"
          ]
        }
      ],
      "source": [
        "print(x.columns)\n",
        "print(y)"
      ],
      "id": "prc_VOllZWOh"
    },
    {
      "cell_type": "code",
      "execution_count": null,
      "metadata": {
        "id": "F9u9Pj1TERvR"
      },
      "outputs": [],
      "source": [
        "from sklearn.model_selection import train_test_split\n",
        "X_train,X_test,Y_train,Y_test=train_test_split(x,y,test_size=0.3)\n",
        "X_valid,X_test,Y_valid,Y_test=train_test_split(X_test,Y_test,test_size=0.5)"
      ],
      "id": "F9u9Pj1TERvR"
    },
    {
      "cell_type": "code",
      "execution_count": null,
      "metadata": {
        "colab": {
          "base_uri": "https://localhost:8080/"
        },
        "outputId": "aa8e36b9-4365-41cb-d041-c2eb2b720d6e",
        "id": "4G2WVvWKERvR"
      },
      "outputs": [
        {
          "output_type": "execute_result",
          "data": {
            "text/plain": [
              "(445, 30)"
            ]
          },
          "metadata": {},
          "execution_count": 99
        }
      ],
      "source": [
        "X_train.shape"
      ],
      "id": "4G2WVvWKERvR"
    },
    {
      "cell_type": "code",
      "execution_count": null,
      "metadata": {
        "id": "nP7-Sp23ERvR"
      },
      "outputs": [],
      "source": [
        "from sklearn.ensemble import RandomForestClassifier\n",
        "rf_random=RandomForestClassifier()"
      ],
      "id": "nP7-Sp23ERvR"
    },
    {
      "cell_type": "code",
      "execution_count": null,
      "metadata": {
        "id": "8D9z8YrhERvS"
      },
      "outputs": [],
      "source": [
        "from sklearn.model_selection import RandomizedSearchCV\n",
        " #Randomized Search CV\n",
        "# Number of trees in random forest\n",
        "n_estimators = [int(x) for x in np.linspace(start = 100, stop = 1200, num = 12)]\n",
        "# Number of features to consider at every split\n",
        "max_features = ['auto', 'sqrt']\n",
        "# Maximum number of levels in tree\n",
        "max_depth = [int(x) for x in np.linspace(5, 30, num = 6)]\n",
        "max_depth.append(None)\n",
        "# Minimum number of samples required to split a node\n",
        "min_samples_split = [2, 5, 10, 15, 100]\n",
        "# Minimum number of samples required at each leaf node\n",
        "min_samples_leaf = [1, 2, 5, 10]\n",
        "\n",
        "bootstrap =[True, False]\n",
        "criterion=[\"log_loss\",\"gini\",\"entropy\"]\n",
        "\n"
      ],
      "id": "8D9z8YrhERvS"
    },
    {
      "cell_type": "code",
      "execution_count": null,
      "metadata": {
        "colab": {
          "base_uri": "https://localhost:8080/"
        },
        "outputId": "3d09701f-cd0c-4a3e-a387-e2254b8d09d3",
        "id": "EYa30TiqERvS"
      },
      "outputs": [
        {
          "output_type": "stream",
          "name": "stdout",
          "text": [
            "{'n_estimators': [100, 200, 300, 400, 500, 600, 700, 800, 900, 1000, 1100, 1200], 'max_features': ['auto', 'sqrt'], 'max_depth': [5, 10, 15, 20, 25, 30, None], 'min_samples_split': [2, 5, 10, 15, 100], 'min_samples_leaf': [1, 2, 5, 10], 'bootstrap': [True, False], 'criterion': ['log_loss', 'gini', 'entropy']}\n"
          ]
        }
      ],
      "source": [
        "\n",
        "# Create the random grid\n",
        "random_grid = {'n_estimators': n_estimators,\n",
        "               'max_features': max_features,\n",
        "               'max_depth': max_depth,\n",
        "               'min_samples_split': min_samples_split,\n",
        "               'min_samples_leaf': min_samples_leaf,\n",
        "               'bootstrap':bootstrap,\n",
        "               'criterion':criterion}\n",
        "\n",
        "print(random_grid)\n"
      ],
      "id": "EYa30TiqERvS"
    },
    {
      "cell_type": "code",
      "execution_count": null,
      "metadata": {
        "id": "cnnii8GPERvT"
      },
      "outputs": [],
      "source": [
        "# Use the random grid to search for best hyperparameters\n",
        "# First create the base model to tune\n",
        "rf_1 = RandomForestClassifier()"
      ],
      "id": "cnnii8GPERvT"
    },
    {
      "cell_type": "code",
      "execution_count": null,
      "metadata": {
        "id": "jyZVMM8-ERvT"
      },
      "outputs": [],
      "source": [
        "# Random search of parameters, using 3 fold cross validation,\n",
        "# search across 100 different combinations\n",
        "rf_random = RandomizedSearchCV(estimator = rf_1, param_distributions = random_grid,scoring='neg_mean_squared_error', n_iter = 20, cv = 5, verbose=2, random_state=42, n_jobs = -1)"
      ],
      "id": "jyZVMM8-ERvT"
    },
    {
      "cell_type": "code",
      "execution_count": null,
      "metadata": {
        "colab": {
          "base_uri": "https://localhost:8080/",
          "height": 191
        },
        "outputId": "1795c14b-2fa1-46e3-8a18-8683c6b208e4",
        "id": "A-TcL8stERvU"
      },
      "outputs": [
        {
          "output_type": "stream",
          "name": "stdout",
          "text": [
            "Fitting 5 folds for each of 20 candidates, totalling 100 fits\n"
          ]
        },
        {
          "output_type": "stream",
          "name": "stderr",
          "text": [
            "/usr/local/lib/python3.10/dist-packages/sklearn/ensemble/_forest.py:424: FutureWarning: `max_features='auto'` has been deprecated in 1.1 and will be removed in 1.3. To keep the past behaviour, explicitly set `max_features='sqrt'` or remove this parameter as it is also the default value for RandomForestClassifiers and ExtraTreesClassifiers.\n",
            "  warn(\n"
          ]
        },
        {
          "output_type": "execute_result",
          "data": {
            "text/plain": [
              "RandomizedSearchCV(cv=5, estimator=RandomForestClassifier(), n_iter=20,\n",
              "                   n_jobs=-1,\n",
              "                   param_distributions={'bootstrap': [True, False],\n",
              "                                        'criterion': ['log_loss', 'gini',\n",
              "                                                      'entropy'],\n",
              "                                        'max_depth': [5, 10, 15, 20, 25, 30,\n",
              "                                                      None],\n",
              "                                        'max_features': ['auto', 'sqrt'],\n",
              "                                        'min_samples_leaf': [1, 2, 5, 10],\n",
              "                                        'min_samples_split': [2, 5, 10, 15,\n",
              "                                                              100],\n",
              "                                        'n_estimators': [100, 200, 300, 400,\n",
              "                                                         500, 600, 700, 800,\n",
              "                                                         900, 1000, 1100,\n",
              "                                                         1200]},\n",
              "                   random_state=42, scoring='neg_mean_squared_error',\n",
              "                   verbose=2)"
            ],
            "text/html": [
              "<style>#sk-container-id-5 {color: black;background-color: white;}#sk-container-id-5 pre{padding: 0;}#sk-container-id-5 div.sk-toggleable {background-color: white;}#sk-container-id-5 label.sk-toggleable__label {cursor: pointer;display: block;width: 100%;margin-bottom: 0;padding: 0.3em;box-sizing: border-box;text-align: center;}#sk-container-id-5 label.sk-toggleable__label-arrow:before {content: \"▸\";float: left;margin-right: 0.25em;color: #696969;}#sk-container-id-5 label.sk-toggleable__label-arrow:hover:before {color: black;}#sk-container-id-5 div.sk-estimator:hover label.sk-toggleable__label-arrow:before {color: black;}#sk-container-id-5 div.sk-toggleable__content {max-height: 0;max-width: 0;overflow: hidden;text-align: left;background-color: #f0f8ff;}#sk-container-id-5 div.sk-toggleable__content pre {margin: 0.2em;color: black;border-radius: 0.25em;background-color: #f0f8ff;}#sk-container-id-5 input.sk-toggleable__control:checked~div.sk-toggleable__content {max-height: 200px;max-width: 100%;overflow: auto;}#sk-container-id-5 input.sk-toggleable__control:checked~label.sk-toggleable__label-arrow:before {content: \"▾\";}#sk-container-id-5 div.sk-estimator input.sk-toggleable__control:checked~label.sk-toggleable__label {background-color: #d4ebff;}#sk-container-id-5 div.sk-label input.sk-toggleable__control:checked~label.sk-toggleable__label {background-color: #d4ebff;}#sk-container-id-5 input.sk-hidden--visually {border: 0;clip: rect(1px 1px 1px 1px);clip: rect(1px, 1px, 1px, 1px);height: 1px;margin: -1px;overflow: hidden;padding: 0;position: absolute;width: 1px;}#sk-container-id-5 div.sk-estimator {font-family: monospace;background-color: #f0f8ff;border: 1px dotted black;border-radius: 0.25em;box-sizing: border-box;margin-bottom: 0.5em;}#sk-container-id-5 div.sk-estimator:hover {background-color: #d4ebff;}#sk-container-id-5 div.sk-parallel-item::after {content: \"\";width: 100%;border-bottom: 1px solid gray;flex-grow: 1;}#sk-container-id-5 div.sk-label:hover label.sk-toggleable__label {background-color: #d4ebff;}#sk-container-id-5 div.sk-serial::before {content: \"\";position: absolute;border-left: 1px solid gray;box-sizing: border-box;top: 0;bottom: 0;left: 50%;z-index: 0;}#sk-container-id-5 div.sk-serial {display: flex;flex-direction: column;align-items: center;background-color: white;padding-right: 0.2em;padding-left: 0.2em;position: relative;}#sk-container-id-5 div.sk-item {position: relative;z-index: 1;}#sk-container-id-5 div.sk-parallel {display: flex;align-items: stretch;justify-content: center;background-color: white;position: relative;}#sk-container-id-5 div.sk-item::before, #sk-container-id-5 div.sk-parallel-item::before {content: \"\";position: absolute;border-left: 1px solid gray;box-sizing: border-box;top: 0;bottom: 0;left: 50%;z-index: -1;}#sk-container-id-5 div.sk-parallel-item {display: flex;flex-direction: column;z-index: 1;position: relative;background-color: white;}#sk-container-id-5 div.sk-parallel-item:first-child::after {align-self: flex-end;width: 50%;}#sk-container-id-5 div.sk-parallel-item:last-child::after {align-self: flex-start;width: 50%;}#sk-container-id-5 div.sk-parallel-item:only-child::after {width: 0;}#sk-container-id-5 div.sk-dashed-wrapped {border: 1px dashed gray;margin: 0 0.4em 0.5em 0.4em;box-sizing: border-box;padding-bottom: 0.4em;background-color: white;}#sk-container-id-5 div.sk-label label {font-family: monospace;font-weight: bold;display: inline-block;line-height: 1.2em;}#sk-container-id-5 div.sk-label-container {text-align: center;}#sk-container-id-5 div.sk-container {/* jupyter's `normalize.less` sets `[hidden] { display: none; }` but bootstrap.min.css set `[hidden] { display: none !important; }` so we also need the `!important` here to be able to override the default hidden behavior on the sphinx rendered scikit-learn.org. See: https://github.com/scikit-learn/scikit-learn/issues/21755 */display: inline-block !important;position: relative;}#sk-container-id-5 div.sk-text-repr-fallback {display: none;}</style><div id=\"sk-container-id-5\" class=\"sk-top-container\"><div class=\"sk-text-repr-fallback\"><pre>RandomizedSearchCV(cv=5, estimator=RandomForestClassifier(), n_iter=20,\n",
              "                   n_jobs=-1,\n",
              "                   param_distributions={&#x27;bootstrap&#x27;: [True, False],\n",
              "                                        &#x27;criterion&#x27;: [&#x27;log_loss&#x27;, &#x27;gini&#x27;,\n",
              "                                                      &#x27;entropy&#x27;],\n",
              "                                        &#x27;max_depth&#x27;: [5, 10, 15, 20, 25, 30,\n",
              "                                                      None],\n",
              "                                        &#x27;max_features&#x27;: [&#x27;auto&#x27;, &#x27;sqrt&#x27;],\n",
              "                                        &#x27;min_samples_leaf&#x27;: [1, 2, 5, 10],\n",
              "                                        &#x27;min_samples_split&#x27;: [2, 5, 10, 15,\n",
              "                                                              100],\n",
              "                                        &#x27;n_estimators&#x27;: [100, 200, 300, 400,\n",
              "                                                         500, 600, 700, 800,\n",
              "                                                         900, 1000, 1100,\n",
              "                                                         1200]},\n",
              "                   random_state=42, scoring=&#x27;neg_mean_squared_error&#x27;,\n",
              "                   verbose=2)</pre><b>In a Jupyter environment, please rerun this cell to show the HTML representation or trust the notebook. <br />On GitHub, the HTML representation is unable to render, please try loading this page with nbviewer.org.</b></div><div class=\"sk-container\" hidden><div class=\"sk-item sk-dashed-wrapped\"><div class=\"sk-label-container\"><div class=\"sk-label sk-toggleable\"><input class=\"sk-toggleable__control sk-hidden--visually\" id=\"sk-estimator-id-9\" type=\"checkbox\" ><label for=\"sk-estimator-id-9\" class=\"sk-toggleable__label sk-toggleable__label-arrow\">RandomizedSearchCV</label><div class=\"sk-toggleable__content\"><pre>RandomizedSearchCV(cv=5, estimator=RandomForestClassifier(), n_iter=20,\n",
              "                   n_jobs=-1,\n",
              "                   param_distributions={&#x27;bootstrap&#x27;: [True, False],\n",
              "                                        &#x27;criterion&#x27;: [&#x27;log_loss&#x27;, &#x27;gini&#x27;,\n",
              "                                                      &#x27;entropy&#x27;],\n",
              "                                        &#x27;max_depth&#x27;: [5, 10, 15, 20, 25, 30,\n",
              "                                                      None],\n",
              "                                        &#x27;max_features&#x27;: [&#x27;auto&#x27;, &#x27;sqrt&#x27;],\n",
              "                                        &#x27;min_samples_leaf&#x27;: [1, 2, 5, 10],\n",
              "                                        &#x27;min_samples_split&#x27;: [2, 5, 10, 15,\n",
              "                                                              100],\n",
              "                                        &#x27;n_estimators&#x27;: [100, 200, 300, 400,\n",
              "                                                         500, 600, 700, 800,\n",
              "                                                         900, 1000, 1100,\n",
              "                                                         1200]},\n",
              "                   random_state=42, scoring=&#x27;neg_mean_squared_error&#x27;,\n",
              "                   verbose=2)</pre></div></div></div><div class=\"sk-parallel\"><div class=\"sk-parallel-item\"><div class=\"sk-item\"><div class=\"sk-label-container\"><div class=\"sk-label sk-toggleable\"><input class=\"sk-toggleable__control sk-hidden--visually\" id=\"sk-estimator-id-10\" type=\"checkbox\" ><label for=\"sk-estimator-id-10\" class=\"sk-toggleable__label sk-toggleable__label-arrow\">estimator: RandomForestClassifier</label><div class=\"sk-toggleable__content\"><pre>RandomForestClassifier()</pre></div></div></div><div class=\"sk-serial\"><div class=\"sk-item\"><div class=\"sk-estimator sk-toggleable\"><input class=\"sk-toggleable__control sk-hidden--visually\" id=\"sk-estimator-id-11\" type=\"checkbox\" ><label for=\"sk-estimator-id-11\" class=\"sk-toggleable__label sk-toggleable__label-arrow\">RandomForestClassifier</label><div class=\"sk-toggleable__content\"><pre>RandomForestClassifier()</pre></div></div></div></div></div></div></div></div></div></div>"
            ]
          },
          "metadata": {},
          "execution_count": 105
        }
      ],
      "source": [
        "rf_random.fit(X_train,Y_train)"
      ],
      "id": "A-TcL8stERvU"
    },
    {
      "cell_type": "code",
      "execution_count": null,
      "metadata": {
        "colab": {
          "base_uri": "https://localhost:8080/"
        },
        "outputId": "ae15a559-321e-424f-ae6b-e6814a063b51",
        "id": "CF362XbsERvU"
      },
      "outputs": [
        {
          "output_type": "execute_result",
          "data": {
            "text/plain": [
              "{'n_estimators': 1100,\n",
              " 'min_samples_split': 15,\n",
              " 'min_samples_leaf': 2,\n",
              " 'max_features': 'auto',\n",
              " 'max_depth': 15,\n",
              " 'criterion': 'gini',\n",
              " 'bootstrap': True}"
            ]
          },
          "metadata": {},
          "execution_count": 106
        }
      ],
      "source": [
        "rf_random.best_params_"
      ],
      "id": "CF362XbsERvU"
    },
    {
      "cell_type": "markdown",
      "source": [
        "Train and Test accuracy"
      ],
      "metadata": {
        "id": "ECtYKTEs8oOo"
      },
      "id": "ECtYKTEs8oOo"
    },
    {
      "cell_type": "code",
      "execution_count": null,
      "metadata": {
        "id": "ove0hUYwJQDO"
      },
      "outputs": [],
      "source": [
        "predictions=rf_random.predict(X_train)"
      ],
      "id": "ove0hUYwJQDO"
    },
    {
      "cell_type": "code",
      "source": [
        "from sklearn import metrics\n",
        "print('MAE:', metrics.mean_absolute_error( Y_train, predictions))\n",
        "print('MSE:', metrics.mean_squared_error(Y_train, predictions))\n",
        "print('RMSE:', np.sqrt(metrics.mean_squared_error(Y_train, predictions)))\n",
        "y_pred=predictions\n",
        "from sklearn.metrics import accuracy_score, f1_score, precision_score, recall_score\n",
        "from sklearn.metrics import ConfusionMatrixDisplay, confusion_matrix\n",
        "y_train= Y_train\n",
        "cm=confusion_matrix(y_train, y_pred)\n",
        "\n",
        "ac_sc = accuracy_score(y_train, y_pred)\n",
        "rc_sc = recall_score(y_train, y_pred, average=\"weighted\")\n",
        "pr_sc = precision_score(y_train, y_pred, average=\"weighted\")\n",
        "f1_sc = f1_score(y_train, y_pred, average='micro')\n",
        "confusion_m = confusion_matrix(y_train, y_pred)\n",
        "\n",
        "print(\"========== Naive Bayes Results ==========\")\n",
        "print(\"Accuracy    : \", ac_sc)\n",
        "print(\"Recall      : \", rc_sc)\n",
        "print(\"Precision   : \", pr_sc)\n",
        "print(\"F1 Score    : \", f1_sc)\n",
        "print(\"Confusion Matrix: \")\n",
        "print(confusion_m)\n",
        "cm = confusion_matrix(y_train, predictions)\n",
        "disp = ConfusionMatrixDisplay(confusion_matrix=cm)\n",
        "disp.plot()\n",
        "\n",
        "plt.show()"
      ],
      "metadata": {
        "colab": {
          "base_uri": "https://localhost:8080/",
          "height": 640
        },
        "id": "HAd7FI2Q8wNN",
        "outputId": "87439dfc-0f6b-4e9b-956c-43d040cefd91"
      },
      "id": "HAd7FI2Q8wNN",
      "execution_count": null,
      "outputs": [
        {
          "output_type": "stream",
          "name": "stdout",
          "text": [
            "MAE: 0.20674157303370785\n",
            "MSE: 0.20674157303370785\n",
            "RMSE: 0.4546884351220161\n",
            "========== Naive Bayes Results ==========\n",
            "Accuracy    :  0.7932584269662921\n",
            "Recall      :  0.7932584269662921\n",
            "Precision   :  0.795810563422797\n",
            "F1 Score    :  0.7932584269662921\n",
            "Confusion Matrix: \n",
            "[[184  54]\n",
            " [ 38 169]]\n"
          ]
        },
        {
          "output_type": "display_data",
          "data": {
            "text/plain": [
              "<Figure size 640x480 with 2 Axes>"
            ],
            "image/png": "[encoded data removed]"
          },
          "metadata": {}
        }
      ]
    },
    {
      "cell_type": "code",
      "execution_count": null,
      "metadata": {
        "colab": {
          "base_uri": "https://localhost:8080/",
          "height": 640
        },
        "id": "kh2t1lbxAea7",
        "outputId": "49bb2968-6afc-456a-99fd-31448a023f73"
      },
      "outputs": [
        {
          "output_type": "stream",
          "name": "stdout",
          "text": [
            "MAE: 0.2708333333333333\n",
            "MSE: 0.2708333333333333\n",
            "RMSE: 0.5204164998665332\n",
            "========== Naive Bayes Results ==========\n",
            "Accuracy    :  0.7291666666666666\n",
            "Recall      :  0.7291666666666666\n",
            "Precision   :  0.7305072463768116\n",
            "F1 Score    :  0.7291666666666665\n",
            "Confusion Matrix: \n",
            "[[38 14]\n",
            " [12 32]]\n"
          ]
        },
        {
          "output_type": "display_data",
          "data": {
            "text/plain": [
              "<Figure size 640x480 with 2 Axes>"
            ],
            "image/png": "[encoded data removed]"
          },
          "metadata": {}
        }
      ],
      "source": [
        "predictions=rf_random.predict(X_test)\n",
        "from sklearn import metrics\n",
        "print('MAE:', metrics.mean_absolute_error( Y_test, predictions))\n",
        "print('MSE:', metrics.mean_squared_error(Y_test, predictions))\n",
        "print('RMSE:', np.sqrt(metrics.mean_squared_error(Y_test, predictions)))\n",
        "y_test=Y_test\n",
        "y_pred=predictions\n",
        "from sklearn.metrics import accuracy_score, f1_score, precision_score, recall_score\n",
        "from sklearn.metrics import ConfusionMatrixDisplay, confusion_matrix\n",
        "y_true=y_test\n",
        "cm=confusion_matrix(y_true, y_pred)\n",
        "\n",
        "ac_sc = accuracy_score(y_test, y_pred)\n",
        "rc_sc = recall_score(y_test, y_pred, average=\"weighted\")\n",
        "pr_sc = precision_score(y_test, y_pred, average=\"weighted\")\n",
        "f1_sc = f1_score(y_test, y_pred, average='micro')\n",
        "confusion_m = confusion_matrix(y_test, y_pred)\n",
        "\n",
        "print(\"========== Naive Bayes Results ==========\")\n",
        "print(\"Accuracy    : \", ac_sc)\n",
        "print(\"Recall      : \", rc_sc)\n",
        "print(\"Precision   : \", pr_sc)\n",
        "print(\"F1 Score    : \", f1_sc)\n",
        "print(\"Confusion Matrix: \")\n",
        "print(confusion_m)\n",
        "cm = confusion_matrix(y_test, predictions)\n",
        "disp = ConfusionMatrixDisplay(confusion_matrix=cm)\n",
        "disp.plot()\n",
        "\n",
        "plt.show()"
      ],
      "id": "kh2t1lbxAea7"
    },
    {
      "cell_type": "markdown",
      "source": [
        "## CONCLUSION\n",
        "Using the multinational dataset of Player’s in-game behaviour in a game that involves virtual world and\n",
        "environmental perceptions, a classification model to predict players’ environmental perceptions based\n",
        "on their socio-demographic features was created. The data pre-processing was brief, involving removal\n",
        "of a few errors in A5 by dropping the rows with errors. Age and Gender were shown to be relevant\n",
        "metrics, with differences in distributions between genders and skew in the age suggesting these are\n",
        "relevant features. Chi-squared analysis was performed on the columns in A and C to find correlations,\n",
        "with a value of 5% used as the threshold, ultimately all columns in A had at least 3 strong correlations\n",
        "in C but column A3. It was decided Environmental perception was to be a binary class, which was\n",
        "determined by whether the sum of someone's response to C was greater than or lower than the mean.\n",
        "Our final model proved to be quite good at predicting these classes, with an accuracy of 73% and\n",
        "precision and recall scores of 73%. Through the use of test and evaluation sets during training, as well\n",
        "as checking a range of potential parameters, we are confident our results are not heavily overfitted and\n",
        "can be applied to similar situations in the future.\n",
        "\n",
        "\n",
        "Eventhough we build a classifier for predicting players environmental awareness but Environmental awareness or human selfishness are subjective in nature and more robust research is required to create a better classifier"
      ],
      "metadata": {
        "id": "jwTVMCK92wPF"
      },
      "id": "jwTVMCK92wPF"
    },
    {
      "cell_type": "code",
      "source": [],
      "metadata": {
        "id": "fN7kb5hS4qVO"
      },
      "id": "fN7kb5hS4qVO",
      "execution_count": null,
      "outputs": []
    }
  ],
  "metadata": {
    "colab": {
      "provenance": [],
      "toc_visible": true
    },
    "kernelspec": {
      "display_name": "Python 3 (ipykernel)",
      "language": "python",
      "name": "python3"
    },
    "language_info": {
      "codemirror_mode": {
        "name": "ipython",
        "version": 3
      },
      "file_extension": ".py",
      "mimetype": "text/x-python",
      "name": "python",
      "nbconvert_exporter": "python",
      "pygments_lexer": "ipython3",
      "version": "3.9.13"
    }
  },
  "nbformat": 4,
  "nbformat_minor": 5
}